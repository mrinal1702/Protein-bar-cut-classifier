{
 "cells": [
  {
   "cell_type": "code",
   "execution_count": 4,
   "id": "43978444-bbcf-4572-be45-e8e1f2170e58",
   "metadata": {},
   "outputs": [
    {
     "data": {
      "text/html": [
       "<div>\n",
       "<style scoped>\n",
       "    .dataframe tbody tr th:only-of-type {\n",
       "        vertical-align: middle;\n",
       "    }\n",
       "\n",
       "    .dataframe tbody tr th {\n",
       "        vertical-align: top;\n",
       "    }\n",
       "\n",
       "    .dataframe thead th {\n",
       "        text-align: right;\n",
       "    }\n",
       "</style>\n",
       "<table border=\"1\" class=\"dataframe\">\n",
       "  <thead>\n",
       "    <tr style=\"text-align: right;\">\n",
       "      <th></th>\n",
       "      <th>code</th>\n",
       "      <th>lc</th>\n",
       "      <th>product_name_de</th>\n",
       "      <th>product_name_en</th>\n",
       "      <th>product_name_es</th>\n",
       "      <th>product_name_eu</th>\n",
       "      <th>product_name_fr</th>\n",
       "      <th>product_name_fy</th>\n",
       "      <th>product_name_pt</th>\n",
       "      <th>product_name_sv</th>\n",
       "      <th>...</th>\n",
       "      <th>off:environmental_score_grade</th>\n",
       "      <th>off:environmental_score_score</th>\n",
       "      <th>off:environmental_score_data.missing_key_data</th>\n",
       "      <th>off:environmental_score_data.agribalyse.code</th>\n",
       "      <th>off:environmental_score_data.adjustments.origins_of_ingredients.value</th>\n",
       "      <th>off:environmental_score_data.adjustments.packaging.value</th>\n",
       "      <th>off:environmental_score_data.adjustments.packaging.non_recyclable_and_non_biodegradable_materials</th>\n",
       "      <th>off:environmental_score_data.adjustments.production_system.value</th>\n",
       "      <th>off:environmental_score_data.adjustments.threatened_species.value</th>\n",
       "      <th>data_sources</th>\n",
       "    </tr>\n",
       "  </thead>\n",
       "  <tbody>\n",
       "    <tr>\n",
       "      <th>0</th>\n",
       "      <td>722252130228</td>\n",
       "      <td>de</td>\n",
       "      <td>NaN</td>\n",
       "      <td>Chocolate Almond Fudge</td>\n",
       "      <td>NaN</td>\n",
       "      <td>NaN</td>\n",
       "      <td>Barre énergétique Clif Bar - Avoine, Chocolat ...</td>\n",
       "      <td>NaN</td>\n",
       "      <td>NaN</td>\n",
       "      <td>NaN</td>\n",
       "      <td>...</td>\n",
       "      <td>unknown</td>\n",
       "      <td>NaN</td>\n",
       "      <td>1.0</td>\n",
       "      <td>NaN</td>\n",
       "      <td>0.0</td>\n",
       "      <td>-15.0</td>\n",
       "      <td>NaN</td>\n",
       "      <td>10.0</td>\n",
       "      <td>NaN</td>\n",
       "      <td>App - yuka, Apps, App - Speisekammer</td>\n",
       "    </tr>\n",
       "    <tr>\n",
       "      <th>1</th>\n",
       "      <td>5391532124254</td>\n",
       "      <td>de</td>\n",
       "      <td>NaN</td>\n",
       "      <td>Fulfil white chocolate Cookies &amp; clean</td>\n",
       "      <td>NaN</td>\n",
       "      <td>NaN</td>\n",
       "      <td>NaN</td>\n",
       "      <td>NaN</td>\n",
       "      <td>NaN</td>\n",
       "      <td>NaN</td>\n",
       "      <td>...</td>\n",
       "      <td>unknown</td>\n",
       "      <td>NaN</td>\n",
       "      <td>1.0</td>\n",
       "      <td>NaN</td>\n",
       "      <td>-5.0</td>\n",
       "      <td>-15.0</td>\n",
       "      <td>NaN</td>\n",
       "      <td>0.0</td>\n",
       "      <td>NaN</td>\n",
       "      <td>App - macrofactor, Apps, App - smoothie-openfo...</td>\n",
       "    </tr>\n",
       "    <tr>\n",
       "      <th>2</th>\n",
       "      <td>5060751994763</td>\n",
       "      <td>en</td>\n",
       "      <td>NaN</td>\n",
       "      <td>Nutty Chocolate Caramel</td>\n",
       "      <td>NaN</td>\n",
       "      <td>NaN</td>\n",
       "      <td>NaN</td>\n",
       "      <td>NaN</td>\n",
       "      <td>NaN</td>\n",
       "      <td>NaN</td>\n",
       "      <td>...</td>\n",
       "      <td>unknown</td>\n",
       "      <td>NaN</td>\n",
       "      <td>1.0</td>\n",
       "      <td>NaN</td>\n",
       "      <td>-5.0</td>\n",
       "      <td>-15.0</td>\n",
       "      <td>NaN</td>\n",
       "      <td>0.0</td>\n",
       "      <td>NaN</td>\n",
       "      <td>App - macrofactor, Apps, App - smoothie-openfo...</td>\n",
       "    </tr>\n",
       "    <tr>\n",
       "      <th>3</th>\n",
       "      <td>855569110574</td>\n",
       "      <td>en</td>\n",
       "      <td>NaN</td>\n",
       "      <td>CHOCOLATE COVERED PEANUT BUTTER</td>\n",
       "      <td>NaN</td>\n",
       "      <td>NaN</td>\n",
       "      <td>NaN</td>\n",
       "      <td>NaN</td>\n",
       "      <td>NaN</td>\n",
       "      <td>NaN</td>\n",
       "      <td>...</td>\n",
       "      <td>unknown</td>\n",
       "      <td>NaN</td>\n",
       "      <td>1.0</td>\n",
       "      <td>NaN</td>\n",
       "      <td>-5.0</td>\n",
       "      <td>-15.0</td>\n",
       "      <td>NaN</td>\n",
       "      <td>0.0</td>\n",
       "      <td>NaN</td>\n",
       "      <td>App - Yuka, Apps, Labels, label-non-gmo-projec...</td>\n",
       "    </tr>\n",
       "    <tr>\n",
       "      <th>4</th>\n",
       "      <td>8683851540875</td>\n",
       "      <td>en</td>\n",
       "      <td>NaN</td>\n",
       "      <td>Protein Bar</td>\n",
       "      <td>NaN</td>\n",
       "      <td>NaN</td>\n",
       "      <td>NaN</td>\n",
       "      <td>NaN</td>\n",
       "      <td>NaN</td>\n",
       "      <td>NaN</td>\n",
       "      <td>...</td>\n",
       "      <td>unknown</td>\n",
       "      <td>NaN</td>\n",
       "      <td>1.0</td>\n",
       "      <td>NaN</td>\n",
       "      <td>-5.0</td>\n",
       "      <td>-15.0</td>\n",
       "      <td>NaN</td>\n",
       "      <td>0.0</td>\n",
       "      <td>NaN</td>\n",
       "      <td>App - caloriecounterapp, Apps</td>\n",
       "    </tr>\n",
       "  </tbody>\n",
       "</table>\n",
       "<p>5 rows × 170 columns</p>\n",
       "</div>"
      ],
      "text/plain": [
       "            code  lc product_name_de                         product_name_en  \\\n",
       "0   722252130228  de             NaN                  Chocolate Almond Fudge   \n",
       "1  5391532124254  de             NaN  Fulfil white chocolate Cookies & clean   \n",
       "2  5060751994763  en             NaN                 Nutty Chocolate Caramel   \n",
       "3   855569110574  en             NaN         CHOCOLATE COVERED PEANUT BUTTER   \n",
       "4  8683851540875  en             NaN                             Protein Bar   \n",
       "\n",
       "  product_name_es product_name_eu  \\\n",
       "0             NaN             NaN   \n",
       "1             NaN             NaN   \n",
       "2             NaN             NaN   \n",
       "3             NaN             NaN   \n",
       "4             NaN             NaN   \n",
       "\n",
       "                                     product_name_fr product_name_fy  \\\n",
       "0  Barre énergétique Clif Bar - Avoine, Chocolat ...             NaN   \n",
       "1                                                NaN             NaN   \n",
       "2                                                NaN             NaN   \n",
       "3                                                NaN             NaN   \n",
       "4                                                NaN             NaN   \n",
       "\n",
       "  product_name_pt product_name_sv  ... off:environmental_score_grade  \\\n",
       "0             NaN             NaN  ...                       unknown   \n",
       "1             NaN             NaN  ...                       unknown   \n",
       "2             NaN             NaN  ...                       unknown   \n",
       "3             NaN             NaN  ...                       unknown   \n",
       "4             NaN             NaN  ...                       unknown   \n",
       "\n",
       "  off:environmental_score_score off:environmental_score_data.missing_key_data  \\\n",
       "0                           NaN                                           1.0   \n",
       "1                           NaN                                           1.0   \n",
       "2                           NaN                                           1.0   \n",
       "3                           NaN                                           1.0   \n",
       "4                           NaN                                           1.0   \n",
       "\n",
       "  off:environmental_score_data.agribalyse.code  \\\n",
       "0                                          NaN   \n",
       "1                                          NaN   \n",
       "2                                          NaN   \n",
       "3                                          NaN   \n",
       "4                                          NaN   \n",
       "\n",
       "  off:environmental_score_data.adjustments.origins_of_ingredients.value  \\\n",
       "0                                                0.0                      \n",
       "1                                               -5.0                      \n",
       "2                                               -5.0                      \n",
       "3                                               -5.0                      \n",
       "4                                               -5.0                      \n",
       "\n",
       "  off:environmental_score_data.adjustments.packaging.value  \\\n",
       "0                                              -15.0         \n",
       "1                                              -15.0         \n",
       "2                                              -15.0         \n",
       "3                                              -15.0         \n",
       "4                                              -15.0         \n",
       "\n",
       "  off:environmental_score_data.adjustments.packaging.non_recyclable_and_non_biodegradable_materials  \\\n",
       "0                                                NaN                                                  \n",
       "1                                                NaN                                                  \n",
       "2                                                NaN                                                  \n",
       "3                                                NaN                                                  \n",
       "4                                                NaN                                                  \n",
       "\n",
       "  off:environmental_score_data.adjustments.production_system.value  \\\n",
       "0                                               10.0                 \n",
       "1                                                0.0                 \n",
       "2                                                0.0                 \n",
       "3                                                0.0                 \n",
       "4                                                0.0                 \n",
       "\n",
       "  off:environmental_score_data.adjustments.threatened_species.value  \\\n",
       "0                                                NaN                  \n",
       "1                                                NaN                  \n",
       "2                                                NaN                  \n",
       "3                                                NaN                  \n",
       "4                                                NaN                  \n",
       "\n",
       "                                        data_sources  \n",
       "0               App - yuka, Apps, App - Speisekammer  \n",
       "1  App - macrofactor, Apps, App - smoothie-openfo...  \n",
       "2  App - macrofactor, Apps, App - smoothie-openfo...  \n",
       "3  App - Yuka, Apps, Labels, label-non-gmo-projec...  \n",
       "4                      App - caloriecounterapp, Apps  \n",
       "\n",
       "[5 rows x 170 columns]"
      ]
     },
     "execution_count": 4,
     "metadata": {},
     "output_type": "execute_result"
    }
   ],
   "source": [
    "import pandas as pd\n",
    "\n",
    "df = pd.read_excel(\"openfoodfacts_export.xlsx\")  # mark as dataframe\n",
    "df.head()\n"
   ]
  },
  {
   "cell_type": "code",
   "execution_count": 5,
   "id": "e3c1c23f-7e68-4315-99a6-9e8f48ce70d8",
   "metadata": {},
   "outputs": [
    {
     "data": {
      "text/html": [
       "<div>\n",
       "<style scoped>\n",
       "    .dataframe tbody tr th:only-of-type {\n",
       "        vertical-align: middle;\n",
       "    }\n",
       "\n",
       "    .dataframe tbody tr th {\n",
       "        vertical-align: top;\n",
       "    }\n",
       "\n",
       "    .dataframe thead th {\n",
       "        text-align: right;\n",
       "    }\n",
       "</style>\n",
       "<table border=\"1\" class=\"dataframe\">\n",
       "  <thead>\n",
       "    <tr style=\"text-align: right;\">\n",
       "      <th></th>\n",
       "      <th>code</th>\n",
       "      <th>lc</th>\n",
       "      <th>product_name_en</th>\n",
       "      <th>generic_name_en</th>\n",
       "      <th>generic_name_sv</th>\n",
       "      <th>quantity</th>\n",
       "      <th>serving_size</th>\n",
       "      <th>packaging</th>\n",
       "      <th>packaging_tags</th>\n",
       "      <th>brands</th>\n",
       "      <th>...</th>\n",
       "      <th>off:environmental_score_grade</th>\n",
       "      <th>off:environmental_score_score</th>\n",
       "      <th>off:environmental_score_data.missing_key_data</th>\n",
       "      <th>off:environmental_score_data.agribalyse.code</th>\n",
       "      <th>off:environmental_score_data.adjustments.origins_of_ingredients.value</th>\n",
       "      <th>off:environmental_score_data.adjustments.packaging.value</th>\n",
       "      <th>off:environmental_score_data.adjustments.packaging.non_recyclable_and_non_biodegradable_materials</th>\n",
       "      <th>off:environmental_score_data.adjustments.production_system.value</th>\n",
       "      <th>off:environmental_score_data.adjustments.threatened_species.value</th>\n",
       "      <th>data_sources</th>\n",
       "    </tr>\n",
       "  </thead>\n",
       "  <tbody>\n",
       "    <tr>\n",
       "      <th>0</th>\n",
       "      <td>722252130228</td>\n",
       "      <td>de</td>\n",
       "      <td>Chocolate Almond Fudge</td>\n",
       "      <td>NaN</td>\n",
       "      <td>NaN</td>\n",
       "      <td>68g</td>\n",
       "      <td>68g</td>\n",
       "      <td>NaN</td>\n",
       "      <td>NaN</td>\n",
       "      <td>CLIF BAR</td>\n",
       "      <td>...</td>\n",
       "      <td>unknown</td>\n",
       "      <td>NaN</td>\n",
       "      <td>1.0</td>\n",
       "      <td>NaN</td>\n",
       "      <td>0.0</td>\n",
       "      <td>-15.0</td>\n",
       "      <td>NaN</td>\n",
       "      <td>10.0</td>\n",
       "      <td>NaN</td>\n",
       "      <td>App - yuka, Apps, App - Speisekammer</td>\n",
       "    </tr>\n",
       "    <tr>\n",
       "      <th>1</th>\n",
       "      <td>5391532124254</td>\n",
       "      <td>de</td>\n",
       "      <td>Fulfil white chocolate Cookies &amp; clean</td>\n",
       "      <td>NaN</td>\n",
       "      <td>NaN</td>\n",
       "      <td>NaN</td>\n",
       "      <td>1 portion (55 g)</td>\n",
       "      <td>NaN</td>\n",
       "      <td>NaN</td>\n",
       "      <td>Ferrero</td>\n",
       "      <td>...</td>\n",
       "      <td>unknown</td>\n",
       "      <td>NaN</td>\n",
       "      <td>1.0</td>\n",
       "      <td>NaN</td>\n",
       "      <td>-5.0</td>\n",
       "      <td>-15.0</td>\n",
       "      <td>NaN</td>\n",
       "      <td>0.0</td>\n",
       "      <td>NaN</td>\n",
       "      <td>App - macrofactor, Apps, App - smoothie-openfo...</td>\n",
       "    </tr>\n",
       "    <tr>\n",
       "      <th>2</th>\n",
       "      <td>5060751994763</td>\n",
       "      <td>en</td>\n",
       "      <td>Nutty Chocolate Caramel</td>\n",
       "      <td>NaN</td>\n",
       "      <td>NaN</td>\n",
       "      <td>NaN</td>\n",
       "      <td>1.0 bsr (70.0 g)</td>\n",
       "      <td>NaN</td>\n",
       "      <td>NaN</td>\n",
       "      <td>Optimum Nutrition</td>\n",
       "      <td>...</td>\n",
       "      <td>unknown</td>\n",
       "      <td>NaN</td>\n",
       "      <td>1.0</td>\n",
       "      <td>NaN</td>\n",
       "      <td>-5.0</td>\n",
       "      <td>-15.0</td>\n",
       "      <td>NaN</td>\n",
       "      <td>0.0</td>\n",
       "      <td>NaN</td>\n",
       "      <td>App - macrofactor, Apps, App - smoothie-openfo...</td>\n",
       "    </tr>\n",
       "    <tr>\n",
       "      <th>3</th>\n",
       "      <td>855569110574</td>\n",
       "      <td>en</td>\n",
       "      <td>CHOCOLATE COVERED PEANUT BUTTER</td>\n",
       "      <td>NaN</td>\n",
       "      <td>NaN</td>\n",
       "      <td>NaN</td>\n",
       "      <td>1 bar (30 g)</td>\n",
       "      <td>NaN</td>\n",
       "      <td>NaN</td>\n",
       "      <td>PERFECT BAR mini</td>\n",
       "      <td>...</td>\n",
       "      <td>unknown</td>\n",
       "      <td>NaN</td>\n",
       "      <td>1.0</td>\n",
       "      <td>NaN</td>\n",
       "      <td>-5.0</td>\n",
       "      <td>-15.0</td>\n",
       "      <td>NaN</td>\n",
       "      <td>0.0</td>\n",
       "      <td>NaN</td>\n",
       "      <td>App - Yuka, Apps, Labels, label-non-gmo-projec...</td>\n",
       "    </tr>\n",
       "    <tr>\n",
       "      <th>4</th>\n",
       "      <td>8683851540875</td>\n",
       "      <td>en</td>\n",
       "      <td>Protein Bar</td>\n",
       "      <td>NaN</td>\n",
       "      <td>NaN</td>\n",
       "      <td>NaN</td>\n",
       "      <td>40.0g</td>\n",
       "      <td>NaN</td>\n",
       "      <td>NaN</td>\n",
       "      <td>Delly</td>\n",
       "      <td>...</td>\n",
       "      <td>unknown</td>\n",
       "      <td>NaN</td>\n",
       "      <td>1.0</td>\n",
       "      <td>NaN</td>\n",
       "      <td>-5.0</td>\n",
       "      <td>-15.0</td>\n",
       "      <td>NaN</td>\n",
       "      <td>0.0</td>\n",
       "      <td>NaN</td>\n",
       "      <td>App - caloriecounterapp, Apps</td>\n",
       "    </tr>\n",
       "  </tbody>\n",
       "</table>\n",
       "<p>5 rows × 149 columns</p>\n",
       "</div>"
      ],
      "text/plain": [
       "            code  lc                         product_name_en generic_name_en  \\\n",
       "0   722252130228  de                  Chocolate Almond Fudge             NaN   \n",
       "1  5391532124254  de  Fulfil white chocolate Cookies & clean             NaN   \n",
       "2  5060751994763  en                 Nutty Chocolate Caramel             NaN   \n",
       "3   855569110574  en         CHOCOLATE COVERED PEANUT BUTTER             NaN   \n",
       "4  8683851540875  en                             Protein Bar             NaN   \n",
       "\n",
       "  generic_name_sv quantity      serving_size packaging packaging_tags  \\\n",
       "0             NaN      68g               68g       NaN            NaN   \n",
       "1             NaN      NaN  1 portion (55 g)       NaN            NaN   \n",
       "2             NaN      NaN  1.0 bsr (70.0 g)       NaN            NaN   \n",
       "3             NaN      NaN      1 bar (30 g)       NaN            NaN   \n",
       "4             NaN      NaN             40.0g       NaN            NaN   \n",
       "\n",
       "              brands  ... off:environmental_score_grade  \\\n",
       "0           CLIF BAR  ...                       unknown   \n",
       "1            Ferrero  ...                       unknown   \n",
       "2  Optimum Nutrition  ...                       unknown   \n",
       "3   PERFECT BAR mini  ...                       unknown   \n",
       "4              Delly  ...                       unknown   \n",
       "\n",
       "  off:environmental_score_score off:environmental_score_data.missing_key_data  \\\n",
       "0                           NaN                                           1.0   \n",
       "1                           NaN                                           1.0   \n",
       "2                           NaN                                           1.0   \n",
       "3                           NaN                                           1.0   \n",
       "4                           NaN                                           1.0   \n",
       "\n",
       "  off:environmental_score_data.agribalyse.code  \\\n",
       "0                                          NaN   \n",
       "1                                          NaN   \n",
       "2                                          NaN   \n",
       "3                                          NaN   \n",
       "4                                          NaN   \n",
       "\n",
       "  off:environmental_score_data.adjustments.origins_of_ingredients.value  \\\n",
       "0                                                0.0                      \n",
       "1                                               -5.0                      \n",
       "2                                               -5.0                      \n",
       "3                                               -5.0                      \n",
       "4                                               -5.0                      \n",
       "\n",
       "  off:environmental_score_data.adjustments.packaging.value  \\\n",
       "0                                              -15.0         \n",
       "1                                              -15.0         \n",
       "2                                              -15.0         \n",
       "3                                              -15.0         \n",
       "4                                              -15.0         \n",
       "\n",
       "  off:environmental_score_data.adjustments.packaging.non_recyclable_and_non_biodegradable_materials  \\\n",
       "0                                                NaN                                                  \n",
       "1                                                NaN                                                  \n",
       "2                                                NaN                                                  \n",
       "3                                                NaN                                                  \n",
       "4                                                NaN                                                  \n",
       "\n",
       "  off:environmental_score_data.adjustments.production_system.value  \\\n",
       "0                                               10.0                 \n",
       "1                                                0.0                 \n",
       "2                                                0.0                 \n",
       "3                                                0.0                 \n",
       "4                                                0.0                 \n",
       "\n",
       "  off:environmental_score_data.adjustments.threatened_species.value  \\\n",
       "0                                                NaN                  \n",
       "1                                                NaN                  \n",
       "2                                                NaN                  \n",
       "3                                                NaN                  \n",
       "4                                                NaN                  \n",
       "\n",
       "                                        data_sources  \n",
       "0               App - yuka, Apps, App - Speisekammer  \n",
       "1  App - macrofactor, Apps, App - smoothie-openfo...  \n",
       "2  App - macrofactor, Apps, App - smoothie-openfo...  \n",
       "3  App - Yuka, Apps, Labels, label-non-gmo-projec...  \n",
       "4                      App - caloriecounterapp, Apps  \n",
       "\n",
       "[5 rows x 149 columns]"
      ]
     },
     "execution_count": 5,
     "metadata": {},
     "output_type": "execute_result"
    }
   ],
   "source": [
    "# List of columns to drop\n",
    "cols_to_drop = [\n",
    "    \"product_name_de\", \"product_name_es\", \"product_name_eu\", \"product_name_fr\",\n",
    "    \"product_name_fy\", \"product_name_pt\", \"product_name_sv\", \"product_name_tr\",\n",
    "    \"ingredients_text_de\", \"ingredients_text_fr\", \"ingredients_text_sv\", \"ingredients_text_tr\",\n",
    "    \"packaging_1_number_of_units\", \"packaging_1_shape\", \"packaging_1_material\",\n",
    "    \"packaging_1_recycling\", \"packaging_1_quantity_per_unit\", \"packaging_1_weight_measured\",\n",
    "    \"packaging_2_shape\", \"packaging_2_material\", \"link\"\n",
    "]\n",
    "\n",
    "# Drop them safely (ignore errors in case some are missing)\n",
    "df.drop(columns=cols_to_drop, inplace=True, errors=\"ignore\")\n",
    "\n",
    "# Check remaining columns\n",
    "df.head()\n"
   ]
  },
  {
   "cell_type": "code",
   "execution_count": 6,
   "id": "669a4b4d-b8df-4f41-aa02-d83209d22d41",
   "metadata": {},
   "outputs": [
    {
     "name": "stdout",
     "output_type": "stream",
     "text": [
      "Rows after cleaning: 309\n"
     ]
    },
    {
     "data": {
      "text/html": [
       "<div>\n",
       "<style scoped>\n",
       "    .dataframe tbody tr th:only-of-type {\n",
       "        vertical-align: middle;\n",
       "    }\n",
       "\n",
       "    .dataframe tbody tr th {\n",
       "        vertical-align: top;\n",
       "    }\n",
       "\n",
       "    .dataframe thead th {\n",
       "        text-align: right;\n",
       "    }\n",
       "</style>\n",
       "<table border=\"1\" class=\"dataframe\">\n",
       "  <thead>\n",
       "    <tr style=\"text-align: right;\">\n",
       "      <th></th>\n",
       "      <th>code</th>\n",
       "      <th>product_name_en</th>\n",
       "      <th>brands</th>\n",
       "      <th>countries</th>\n",
       "      <th>energy-kcal_value</th>\n",
       "      <th>energy-kcal_unit</th>\n",
       "      <th>fat_value</th>\n",
       "      <th>fat_unit</th>\n",
       "      <th>saturated-fat_value</th>\n",
       "      <th>saturated-fat_unit</th>\n",
       "      <th>carbohydrates_value</th>\n",
       "      <th>carbohydrates_unit</th>\n",
       "      <th>sugars_value</th>\n",
       "      <th>sugars_unit</th>\n",
       "      <th>fiber_value</th>\n",
       "      <th>fiber_unit</th>\n",
       "      <th>proteins_value</th>\n",
       "      <th>proteins_unit</th>\n",
       "      <th>salt_value</th>\n",
       "    </tr>\n",
       "  </thead>\n",
       "  <tbody>\n",
       "    <tr>\n",
       "      <th>0</th>\n",
       "      <td>722252130228</td>\n",
       "      <td>Chocolate Almond Fudge</td>\n",
       "      <td>CLIF BAR</td>\n",
       "      <td>Frankreich, Deutschland, Irland</td>\n",
       "      <td>404.0</td>\n",
       "      <td>kcal</td>\n",
       "      <td>9.0</td>\n",
       "      <td>g</td>\n",
       "      <td>1.9</td>\n",
       "      <td>g</td>\n",
       "      <td>63.000000</td>\n",
       "      <td>g</td>\n",
       "      <td>29.0</td>\n",
       "      <td>g</td>\n",
       "      <td>4.00</td>\n",
       "      <td>g</td>\n",
       "      <td>14.000000</td>\n",
       "      <td>g</td>\n",
       "      <td>0.5900</td>\n",
       "    </tr>\n",
       "    <tr>\n",
       "      <th>1</th>\n",
       "      <td>5391532124254</td>\n",
       "      <td>Fulfil white chocolate Cookies &amp; clean</td>\n",
       "      <td>Ferrero</td>\n",
       "      <td>Irland</td>\n",
       "      <td>198.0</td>\n",
       "      <td>kcal</td>\n",
       "      <td>7.6</td>\n",
       "      <td>g</td>\n",
       "      <td>0.0</td>\n",
       "      <td>NaN</td>\n",
       "      <td>19.000000</td>\n",
       "      <td>g</td>\n",
       "      <td>0.0</td>\n",
       "      <td>NaN</td>\n",
       "      <td>4.00</td>\n",
       "      <td>g</td>\n",
       "      <td>18.000000</td>\n",
       "      <td>g</td>\n",
       "      <td>0.0975</td>\n",
       "    </tr>\n",
       "    <tr>\n",
       "      <th>2</th>\n",
       "      <td>5060751994763</td>\n",
       "      <td>Nutty Chocolate Caramel</td>\n",
       "      <td>Optimum Nutrition</td>\n",
       "      <td>Ireland, United Kingdom</td>\n",
       "      <td>256.0</td>\n",
       "      <td>kcal</td>\n",
       "      <td>9.7</td>\n",
       "      <td>g</td>\n",
       "      <td>4.5</td>\n",
       "      <td>g</td>\n",
       "      <td>20.000000</td>\n",
       "      <td>g</td>\n",
       "      <td>6.2</td>\n",
       "      <td>g</td>\n",
       "      <td>11.00</td>\n",
       "      <td>g</td>\n",
       "      <td>20.000000</td>\n",
       "      <td>g</td>\n",
       "      <td>0.0000</td>\n",
       "    </tr>\n",
       "    <tr>\n",
       "      <th>3</th>\n",
       "      <td>855569110574</td>\n",
       "      <td>CHOCOLATE COVERED PEANUT BUTTER</td>\n",
       "      <td>PERFECT BAR mini</td>\n",
       "      <td>Ireland, World</td>\n",
       "      <td>150.0</td>\n",
       "      <td>kcal</td>\n",
       "      <td>10.0</td>\n",
       "      <td>g</td>\n",
       "      <td>3.0</td>\n",
       "      <td>g</td>\n",
       "      <td>12.000000</td>\n",
       "      <td>g</td>\n",
       "      <td>8.0</td>\n",
       "      <td>g</td>\n",
       "      <td>2.00</td>\n",
       "      <td>g</td>\n",
       "      <td>5.000000</td>\n",
       "      <td>g</td>\n",
       "      <td>0.0875</td>\n",
       "    </tr>\n",
       "    <tr>\n",
       "      <th>4</th>\n",
       "      <td>8683851540875</td>\n",
       "      <td>Protein Bar</td>\n",
       "      <td>Delly</td>\n",
       "      <td>Ireland</td>\n",
       "      <td>362.5</td>\n",
       "      <td>kcal</td>\n",
       "      <td>10.5</td>\n",
       "      <td>g</td>\n",
       "      <td>7.0</td>\n",
       "      <td>g</td>\n",
       "      <td>40.250001</td>\n",
       "      <td>g</td>\n",
       "      <td>1.0</td>\n",
       "      <td>g</td>\n",
       "      <td>1.25</td>\n",
       "      <td>g</td>\n",
       "      <td>37.750001</td>\n",
       "      <td>g</td>\n",
       "      <td>0.0000</td>\n",
       "    </tr>\n",
       "  </tbody>\n",
       "</table>\n",
       "</div>"
      ],
      "text/plain": [
       "            code                         product_name_en             brands  \\\n",
       "0   722252130228                  Chocolate Almond Fudge           CLIF BAR   \n",
       "1  5391532124254  Fulfil white chocolate Cookies & clean            Ferrero   \n",
       "2  5060751994763                 Nutty Chocolate Caramel  Optimum Nutrition   \n",
       "3   855569110574         CHOCOLATE COVERED PEANUT BUTTER   PERFECT BAR mini   \n",
       "4  8683851540875                             Protein Bar              Delly   \n",
       "\n",
       "                         countries  energy-kcal_value energy-kcal_unit  \\\n",
       "0  Frankreich, Deutschland, Irland              404.0             kcal   \n",
       "1                           Irland              198.0             kcal   \n",
       "2          Ireland, United Kingdom              256.0             kcal   \n",
       "3                   Ireland, World              150.0             kcal   \n",
       "4                          Ireland              362.5             kcal   \n",
       "\n",
       "   fat_value fat_unit  saturated-fat_value saturated-fat_unit  \\\n",
       "0        9.0        g                  1.9                  g   \n",
       "1        7.6        g                  0.0                NaN   \n",
       "2        9.7        g                  4.5                  g   \n",
       "3       10.0        g                  3.0                  g   \n",
       "4       10.5        g                  7.0                  g   \n",
       "\n",
       "   carbohydrates_value carbohydrates_unit  sugars_value sugars_unit  \\\n",
       "0            63.000000                  g          29.0           g   \n",
       "1            19.000000                  g           0.0         NaN   \n",
       "2            20.000000                  g           6.2           g   \n",
       "3            12.000000                  g           8.0           g   \n",
       "4            40.250001                  g           1.0           g   \n",
       "\n",
       "   fiber_value fiber_unit  proteins_value proteins_unit  salt_value  \n",
       "0         4.00          g       14.000000             g      0.5900  \n",
       "1         4.00          g       18.000000             g      0.0975  \n",
       "2        11.00          g       20.000000             g      0.0000  \n",
       "3         2.00          g        5.000000             g      0.0875  \n",
       "4         1.25          g       37.750001             g      0.0000  "
      ]
     },
     "execution_count": 6,
     "metadata": {},
     "output_type": "execute_result"
    }
   ],
   "source": [
    "import pandas as pd\n",
    "\n",
    "# Reload the dataset (if not already loaded)\n",
    "df = pd.read_excel(\"openfoodfacts_export.xlsx\")\n",
    "\n",
    "# Define the core nutrient columns we care about\n",
    "core_cols = [\n",
    "    \"energy-kcal_value\", \"energy-kcal_unit\",\n",
    "    \"fat_value\", \"fat_unit\",\n",
    "    \"saturated-fat_value\", \"saturated-fat_unit\",\n",
    "    \"carbohydrates_value\", \"carbohydrates_unit\",\n",
    "    \"sugars_value\", \"sugars_unit\",\n",
    "    \"fiber_value\", \"fiber_unit\",\n",
    "    \"proteins_value\", \"proteins_unit\",\n",
    "    \"salt_value\"\n",
    "]\n",
    "\n",
    "# Work only with these columns + keep some identifiers\n",
    "id_cols = [\"code\", \"product_name_en\", \"brands\", \"countries\"]\n",
    "subset = df[id_cols + core_cols].copy()\n",
    "\n",
    "# --- Cleaning rules ---\n",
    "\n",
    "# 1. Drop rows where energy-kcal_value == 0 or NaN\n",
    "subset = subset[(subset[\"energy-kcal_value\"].notna()) & (subset[\"energy-kcal_value\"] != 0)]\n",
    "\n",
    "# 2. Drop rows where proteins_value == 0 or NaN\n",
    "subset = subset[(subset[\"proteins_value\"].notna()) & (subset[\"proteins_value\"] != 0)]\n",
    "\n",
    "# 3. For other numeric nutrient fields, fill missing with 0\n",
    "fill_cols = [\n",
    "    \"fat_value\", \"saturated-fat_value\",\n",
    "    \"carbohydrates_value\", \"sugars_value\",\n",
    "    \"fiber_value\", \"salt_value\"\n",
    "]\n",
    "subset[fill_cols] = subset[fill_cols].fillna(0)\n",
    "\n",
    "# --- Done cleaning ---\n",
    "cleaned_df = subset.copy()\n",
    "\n",
    "# Show how many rows are left\n",
    "print(f\"Rows after cleaning: {cleaned_df.shape[0]}\")\n",
    "\n",
    "# Optional: preview first few rows\n",
    "cleaned_df.head()\n"
   ]
  },
  {
   "cell_type": "code",
   "execution_count": 7,
   "id": "97d854dd-8067-41d0-b243-f7a455643700",
   "metadata": {},
   "outputs": [],
   "source": [
    "import numpy as np\n",
    "\n",
    "# Avoid divide-by-zero; assumes your cleaned_df already exists\n",
    "df_plot = cleaned_df.copy()\n",
    "\n",
    "# Ensure numeric\n",
    "for c in [\"energy-kcal_value\", \"proteins_value\"]:\n",
    "    df_plot[c] = pd.to_numeric(df_plot[c], errors=\"coerce\")\n",
    "\n",
    "# protein per 100 kcal = grams protein for every 100 kcal\n",
    "df_plot[\"protein_per_100kcal\"] = np.where(\n",
    "    (df_plot[\"energy-kcal_value\"] > 0),\n",
    "    df_plot[\"proteins_value\"] / (df_plot[\"energy-kcal_value\"] / 100.0),\n",
    "    np.nan\n",
    ")\n",
    "\n",
    "# Drop the row with the max protein_per_100kcal (clearly wrong)\n",
    "df_plot = df_plot.drop(df_plot[\"protein_per_100kcal\"].idxmax())\n",
    "\n",
    "# Drop the row with the max energy-kcal_value (clearly wrong)\n",
    "df_plot = df_plot.drop(df_plot[\"energy-kcal_value\"].idxmax())\n"
   ]
  },
  {
   "cell_type": "code",
   "execution_count": 8,
   "id": "da2c66a2-3e07-4f7f-8495-eacdeb8293f3",
   "metadata": {},
   "outputs": [
    {
     "data": {
      "image/png": "[encoded data removed]",
      "text/plain": [
       "<Figure size 800x600 with 1 Axes>"
      ]
     },
     "metadata": {},
     "output_type": "display_data"
    },
    {
     "data": {
      "text/html": [
       "<div>\n",
       "<style scoped>\n",
       "    .dataframe tbody tr th:only-of-type {\n",
       "        vertical-align: middle;\n",
       "    }\n",
       "\n",
       "    .dataframe tbody tr th {\n",
       "        vertical-align: top;\n",
       "    }\n",
       "\n",
       "    .dataframe thead th {\n",
       "        text-align: right;\n",
       "    }\n",
       "</style>\n",
       "<table border=\"1\" class=\"dataframe\">\n",
       "  <thead>\n",
       "    <tr style=\"text-align: right;\">\n",
       "      <th></th>\n",
       "      <th>product_name_en</th>\n",
       "      <th>brands</th>\n",
       "      <th>energy-kcal_value</th>\n",
       "      <th>protein_per_100kcal</th>\n",
       "    </tr>\n",
       "  </thead>\n",
       "  <tbody>\n",
       "    <tr>\n",
       "      <th>135</th>\n",
       "      <td>Protein energy bar</td>\n",
       "      <td>Power Crunch</td>\n",
       "      <td>550.000000</td>\n",
       "      <td>5.909091</td>\n",
       "    </tr>\n",
       "    <tr>\n",
       "      <th>74</th>\n",
       "      <td>Salted caramel seed bars</td>\n",
       "      <td>Nine</td>\n",
       "      <td>530.000000</td>\n",
       "      <td>3.160377</td>\n",
       "    </tr>\n",
       "    <tr>\n",
       "      <th>187</th>\n",
       "      <td>Mocha Protein bar</td>\n",
       "      <td>Coles</td>\n",
       "      <td>521.052632</td>\n",
       "      <td>5.101010</td>\n",
       "    </tr>\n",
       "    <tr>\n",
       "      <th>101</th>\n",
       "      <td>Protein Bar</td>\n",
       "      <td>Gom gom</td>\n",
       "      <td>520.000000</td>\n",
       "      <td>5.384615</td>\n",
       "    </tr>\n",
       "    <tr>\n",
       "      <th>38</th>\n",
       "      <td>Chocolate Orange Energy Balls</td>\n",
       "      <td>Jo's Absolute Nutrition</td>\n",
       "      <td>432.000000</td>\n",
       "      <td>1.643519</td>\n",
       "    </tr>\n",
       "    <tr>\n",
       "      <th>248</th>\n",
       "      <td>Delly protein bar</td>\n",
       "      <td>Delly</td>\n",
       "      <td>412.500000</td>\n",
       "      <td>1.636364</td>\n",
       "    </tr>\n",
       "    <tr>\n",
       "      <th>90</th>\n",
       "      <td>Protein bar coconut</td>\n",
       "      <td>Fitness shock</td>\n",
       "      <td>400.000000</td>\n",
       "      <td>1.500000</td>\n",
       "    </tr>\n",
       "    <tr>\n",
       "      <th>194</th>\n",
       "      <td>Chia Energy Bombs</td>\n",
       "      <td>Jo's Absolute Nutrition</td>\n",
       "      <td>382.000000</td>\n",
       "      <td>1.623037</td>\n",
       "    </tr>\n",
       "    <tr>\n",
       "      <th>97</th>\n",
       "      <td>Protein bar  50% stracistella</td>\n",
       "      <td>Sportness</td>\n",
       "      <td>371.111111</td>\n",
       "      <td>13.772455</td>\n",
       "    </tr>\n",
       "    <tr>\n",
       "      <th>272</th>\n",
       "      <td>Almond protein Choc caramel bar flavour</td>\n",
       "      <td>Macro Mike</td>\n",
       "      <td>352.249985</td>\n",
       "      <td>14.904188</td>\n",
       "    </tr>\n",
       "  </tbody>\n",
       "</table>\n",
       "</div>"
      ],
      "text/plain": [
       "                             product_name_en                   brands  \\\n",
       "135                       Protein energy bar             Power Crunch   \n",
       "74                  Salted caramel seed bars                     Nine   \n",
       "187                        Mocha Protein bar                    Coles   \n",
       "101                              Protein Bar                  Gom gom   \n",
       "38             Chocolate Orange Energy Balls  Jo's Absolute Nutrition   \n",
       "248                        Delly protein bar                    Delly   \n",
       "90                       Protein bar coconut            Fitness shock   \n",
       "194                        Chia Energy Bombs  Jo's Absolute Nutrition   \n",
       "97             Protein bar  50% stracistella                Sportness   \n",
       "272  Almond protein Choc caramel bar flavour               Macro Mike   \n",
       "\n",
       "     energy-kcal_value  protein_per_100kcal  \n",
       "135         550.000000             5.909091  \n",
       "74          530.000000             3.160377  \n",
       "187         521.052632             5.101010  \n",
       "101         520.000000             5.384615  \n",
       "38          432.000000             1.643519  \n",
       "248         412.500000             1.636364  \n",
       "90          400.000000             1.500000  \n",
       "194         382.000000             1.623037  \n",
       "97          371.111111            13.772455  \n",
       "272         352.249985            14.904188  "
      ]
     },
     "metadata": {},
     "output_type": "display_data"
    }
   ],
   "source": [
    "import numpy as np\n",
    "import matplotlib.pyplot as plt\n",
    "\n",
    "X = df_plot[\"energy-kcal_value\"]\n",
    "Y = df_plot[\"protein_per_100kcal\"]\n",
    "\n",
    "# Robust limits using percentiles\n",
    "x_lo, x_hi = np.percentile(X, [1, 99])\n",
    "y_lo, y_hi = np.percentile(Y, [1, 99])\n",
    "\n",
    "# Identify outliers relative to these limits (strictly outside)\n",
    "is_outlier = (X < x_lo) | (X > x_hi) | (Y < y_lo) | (Y > y_hi)\n",
    "\n",
    "# Medians for quadrant lines (data-driven)\n",
    "x_thr = np.median(X[~np.isnan(X)])\n",
    "y_thr = np.median(Y[~np.isnan(Y)])\n",
    "\n",
    "fig, ax = plt.subplots(figsize=(8,6))\n",
    "\n",
    "# Plot inliers first\n",
    "ax.scatter(X[~is_outlier], Y[~is_outlier], alpha=0.7, s=16)\n",
    "\n",
    "# Overlay outliers with larger markers so they’re visible\n",
    "ax.scatter(X[is_outlier], Y[is_outlier], alpha=0.9, s=48, marker=\"x\")\n",
    "\n",
    "# Quadrant lines (using medians)\n",
    "ax.axvline(x_thr, linestyle=\"--\", linewidth=1)\n",
    "ax.axhline(y_thr, linestyle=\"--\", linewidth=1)\n",
    "\n",
    "# Apply zoomed limits\n",
    "ax.set_xlim(x_lo, x_hi)\n",
    "ax.set_ylim(y_lo, y_hi)\n",
    "\n",
    "ax.set_xlabel(\"Energy (kcal per 100g)\")\n",
    "ax.set_ylabel(\"Protein (g per 100 kcal)\")\n",
    "ax.set_title(\"Protein Bars: Calories vs Protein Density (zoomed; outliers marked)\")\n",
    "\n",
    "plt.tight_layout()\n",
    "plt.show()\n",
    "\n",
    "# Optional: print the outliers so you can inspect them\n",
    "outliers_df = df_plot[is_outlier][[\"product_name_en\",\"brands\",\"energy-kcal_value\",\"protein_per_100kcal\"]]\n",
    "display(outliers_df.sort_values(\"energy-kcal_value\", ascending=False).head(10))\n"
   ]
  },
  {
   "cell_type": "code",
   "execution_count": 9,
   "id": "f7fa8d23-4b6c-43d3-8e6d-c31465eae0b1",
   "metadata": {},
   "outputs": [
    {
     "data": {
      "application/vnd.plotly.v1+json": {
       "config": {
        "plotlyServerURL": "https://plot.ly"
       },
       "data": [
        {
         "hovertemplate": "%{hovertext}<extra></extra>",
         "hovertext": [
          "Chocolate Almond Fudge | CLIF BAR",
          "Fulfil white chocolate Cookies & clean | Ferrero",
          "Nutty Chocolate Caramel | Optimum Nutrition",
          "CHOCOLATE COVERED PEANUT BUTTER | PERFECT BAR mini",
          "Protein Bar | Delly",
          "Chocolate Caramel & Cookie Dough Vitamin & Protein Bar | Fulfil",
          "Caramel Peanut Breakfast Protein Bar | Kind",
          "Dark chocolate nuts & sea salt | KIND",
          "Oreo Protein Bar | Grenade",
          "Chocolate Hazelnut Whip Flavour Vitamin & Protein Bar | FULFIL",
          "JAFFA QUAKE | GRENADE",
          "White Chocolate &amp; Cookie Dough Vitamin &amp; Protei fără gluten | ",
          "WHITE CHOCOLATE PEANUT & CARAMEL FLAVOUR VITAMIN & PROTEIN BAR | FULFI",
          "Pure Protein Bar Caramel Churro | Pure Protein",
          "PROTEIN FLAPJACK SMOOTH LEMON | TREK",
          "Carb Killa Fudge Brownie | Grenade",
          "Carb Killa - Peanut Butter | Grenade",
          "Galactic Brownie Protein Bar | Pure Protein",
          "Dark Chocolate Almond Protein Bar | Bod Bar",
          "Protein Bar | Vitalis",
          "High Protein Bar Chocolate Peanut Butter | Atkins",
          "Fulfill Chocolate Capuccino Flavour Protein Bar | Fulfill",
          "Dipped Snack Bar - Cookies & Crème | Simply Protein",
          "Snack Bar - Lemon Coconut | Simply Protein, SimplyProtein",
          "Kind Protein Max | Kind",
          "Chocolate and Peanut Butter Flavour Vitamin & Protein Bar | Fulfil",
          "Protein bar caramel | stand",
          "Protein meal bar | Barrow’s",
          "Hi protein bar | Züber",
          "Chocolate and salted caramel protein bar | Unknown",
          "Protein flapjack bar | Unknown",
          "White Choc & Raspberry Protein Flapjack | Trek",
          "Protein peanut buter bar | ME2U",
          "Protein bar | Linea",
          "Protein bar crispy cookie | Kaimun",
          "Coconut and Chocolate Vitamin & Protein Bar | Fulfil",
          "Crispy caramel | Fulfil",
          "Vegan protein bar chocolate caramel & peanut | Free* SOUL",
          "Chocolate Orange Energy Balls | Jo's Absolute Nutrition",
          "high protein vanilla quark bar | Milbona",
          "Smart Bar | PhD",
          "White Chocolate Macadamia Nut Flavour Energy Bar | Clif Bar",
          "Pure protein | Pure protein",
          "Carb Killa High Protein Bar Chocolate Chip Cookie Dough | Grenade",
          "Thermo lean protein snack bar | Youthful living",
          "Protein Flapjacks: Smooth Lemon | Trek",
          "HI  protein bar badem ezmelu | Zuber",
          "Chocolate mint cookie protein bar | Pure protein",
          "Crispy peanut flavour | Fulfil",
          "Chocolate brownie flavour protein bar | Kinetica",
          "Protein bar | Unknown",
          "Natural Protein Bar | All Real",
          "Fellas high protein bar classic | Unknown",
          "whipped protein bar peanut and salted caramel | Optimum nutrition",
          "High protein bar: peanut butter | Harvest Morn",
          "Protein Bar | All Real",
          "Protein bar chocolate brownie | Heraw (Health Food)",
          "Caramel Crispy high protein | Broderick's",
          "Protein bar  hazelnut and cacao | Fellas",
          "Chocolate salted caramel | Fulfil protein bar",
          "Protein Bar | Fellas",
          "High protein bar: cookie dough flavour | Harvest Morn",
          "Protein Bar, Peanut Butter Chocolate | RxBar",
          "Whey Protein Bar, Red Velvet | Rite Bite",
          "Milk Chocolate & Almond Flavour Protein Bar | Fulfil",
          "Mini Natural Protein Bar Chocolate Sea Salt | All Real",
          "Fulfill Vitamin and Protein bar | Fulfill",
          "Protein bar | Unknown",
          "Vegan dream high protein bar | Unknown",
          "Venant protein bar | Unknown",
          "All Real Natural Protein Bar | All Real",
          "Hi Protein Bar | Züber",
          "Protein bar | Unknown",
          "Salted caramel seed bars | Nine",
          "RX Bar Peanut Butter | RXBAR",
          "Vegan 30 high protein bar chocolate flavour | Unknown",
          "Soft baked blueberry bar | Atkins",
          "Protein bar | Unknown",
          "Protein bar | Unknown",
          "Gourmet protein bar | Unknown",
          "Protein bar | Unknown",
          "Fellas high protein bar | Unknown",
          "Protein bar | Unknown",
          "Protein bar | Unknown",
          "cookies & cream protein bar | Unknown",
          "Lemon cookie protein bar | Butter",
          "Tarım kredi  protein bar | Tarım kredi",
          "Protein bar | Unknown",
          "High level 3 protein bar vegan peanut | Unknown",
          "Protein bar coconut | Fitness shock",
          "Protein puff bar | Promix",
          "Proteín bar | Ritter",
          "Builders Protein | Clif Bar",
          "Isalean Protein Bar | Isagenix",
          "High protein bar | Elevation",
          "Think! Protein+ Salter Caramel Bar | Think!",
          "Protein bar  50% stracistella | Sportness",
          "Protein energy bar | Elevation",
          "Cookie dough protein bars | Elevation",
          "Protein bar | Muv",
          "Protein Bar | Gom gom",
          "Protein bar | Unknown",
          "Protein bar | Unknown",
          "Vanilla protein bar | Unknown",
          "Protein bar bademli | Uniq",
          "Taro puree & coconut flavour protein bar | Fiboo",
          "Chocolate peanut butter protein bar | Pure protein",
          "Fellas protein bar muzlu kakao | Unknown",
          "Caramelo | True protein bar",
          "Chocolate chip peanut butter protein bar | Diesel",
          "Protein bar chini | Chin",
          "Vita rich protein bar lemon cheesecake flavour | Unknown",
          "Salted caramel protein bar | Fulfil",
          "Fibar | Fibar protein & energy bar",
          "Protein bar | 2keepfit",
          "Mint chocolate chip high protein baked bar | Fit crunch",
          "Chocolate mousse pie protein bar | Think delight",
          "Orange & cocoa high protein bar | Fellas",
          "Protein bar | Unknown",
          "Legion chocolate chip protein bar | Legion",
          "Whey protein | Hammer bar",
          "Cookie Dough Flavor Protein bar | Unknown",
          "Protein bar | Bodymass",
          "Caramel Protein Bar | Fulfil",
          "Protein bar peanut choc plant based | Pulsin",
          "Cacao & Orange Natural Fruit Bar | TRIBE",
          "Chocolate Peanut Butter Protein Bar | Quest",
          "Protein bar | Biolab",
          "Original Peanut Butter Stuffed Oat Bar | Pip & Nut",
          "Chocolate mint protein bar | Aloha",
          "Protein bar - Transparent Lab | Unknown",
          "Chocolate Hazelnut Vegan Protein Bar | Heimatgut",
          "Chocolate mint protein bar | Builders",
          "Natural Protein Bar - Choc Sea Salt | All Real",
          "Protein energy bar | Power Crunch",
          "More Protein | More Protein bar  peanut caramel",
          "Coconut almond crunchy protein bar. | Unknown",
          "Protein bar cookie dough - Terae | Unknown",
          "Protein bar | Unknown",
          "Clean Protein Bar | Naturally Pam",
          "Z Bar Protein cinnamon crunch - Cliff Kids | Unknown",
          "Protein bar Rocky road - Fit&Joy | Unknown",
          "Quest protein bar | Quest",
          "Quest | Quest protein bar",
          "More protein bar | Unknown",
          "Protein Meal Bar, Chocolate Peanut Butter - Elevation by Millville - E",
          "Premium Protein Riegel Kokos-Mandel Geschmack | Sports Factory",
          "Protein bar | Think!",
          "Protein bar | Dux",
          "Protein bar | Saf",
          "Protein Bar coco | Nutrend",
          "Protein Bar | AS",
          "Milk chocolate crunch protein bar | Fulfil",
          "gourmet vegan bar: dark chocolate salted caramel flavour | Bulk",
          "Protein bar cookies cream | Lidl",
          "AM Rx Bar Chocolate Protein | RX bar",
          "Sour watermelon cold pressed protein bar - Fibre Boost | Unknown",
          "Caramel Cashew Protein Bar | Barebells",
          "Crunchy Peanut | Foodspring Protein Bar Extra Chocolate",
          "Pretty Pistachio Protein Bar | Personal Protein",
          "Protein Bars FX | MyoFX",
          "Dipped Snack Bar - Birthday Cake | Simply Protein",
          "Dipped Snack Bar - Cookies & Crème | Simply Protein",
          "Dipped Snack Bar - Cookies & Crème | Simply Protein",
          "Dipped Snack Bar - Strawberry Chocolate | Simply Protein",
          "Multi-pack Dipped Snack Bar - Birthday Cake, Cookies & Crème | Simply ",
          "Pumpkin spice protein bar | One",
          "Protein Bar, Peanut Caramel | All stars",
          "Chocolate brownie flavour vitamin and protein bar | Fulfil",
          "Crunchy Protein Bar | Unknown",
          "Protein Bar Deluxe | KoRo",
          "Protein bar, dark chocolate almond | Atlas",
          "Protein Bar | Alpen Power",
          "Simply protein crispy bar | Simply protein",
          "Baklava protein bar | Unite",
          "Protein bar cookies&cream | Barebells",
          "BOLD cookies and cream protein bar | Bold",
          "43% protein bar | Unknown",
          "Protein  - Hazelnut Dark Chocolate | Kind",
          "Chocolate Chip Cookie Dough Protein Bar | Quest",
          "Peanut Chocolate Chip Protein Bar | All Real",
          "Fit Vegan Protein Bar | Nu3",
          "Z Bar Protein | Unknown",
          "Chocolate hazelnut protein bar | Bombbar",
          "Builders protein bar | Clif",
          "Mocha Protein bar | Coles",
          "Lemon coconut bar | Simply protein",
          "No cow protein bar | No cow",
          "Protein bar chocolat caramel | Unknown",
          "Chocolate protein bar | Fit app",
          "Protein bar | Unknown",
          "Mosh  Protein Bar | Mosh",
          "Chia Energy Bombs | Jo's Absolute Nutrition",
          "Peanut butter raw energy balls | Jo's Absolute Nutrition",
          "Vegan Protein Bar almond cookie | Vegan",
          "Nature Valley Protein Bar | Nature Valley",
          "Cashew Cookie Dough Protein Bar | All Real",
          "Protein bar BANANA | Muller",
          "Chocolate peanut butter protein bar | Pure Protein",
          "Diesel Protein Bar - Chocolate Chip Peanut Butter | Perfect Sport",
          "Protein bar - Fit & Co - Fit & Co | Unknown",
          "Chewy Protein Bars | Kirkland",
          "The Slender Bar - Chocolate | Protein World",
          "Clif protein bar | Clif",
          "Crunchy Protein Bar Cashew Caramela | Naturally pam",
          "Chocolate Deluxe Protein Bar | Pure Protein",
          "Feed me protein bar | Unknown",
          "Protein bar coconut and dark chocolate | Unknown",
          "Dark chocolate sea salt protein bar | Simply protein",
          "Quest protein bar | Quest",
          "Protein bar crispy chocolate and berries | Unknown",
          "Delight Protein Bar | Think!",
          "Protein bar | Unknown",
          "Protein Bar Hazelnut | Greenback",
          "Fiber one protein bar cookies and cream flavour | Fibre One",
          "Protein bar action | Unknown",
          "Protein bar | Barbell",
          "Fudge graham protein bar | Zone perfect",
          "Dipped   Snack bars | Simply Protein",
          "Plant protein bar | Optimum nutrition",
          "Protein Flapjack Choc Peanut | TRIBE",
          "Protein bar | Perfect bar",
          "Protein balls | Jo's",
          "Peanut Butter Protein Bar | All Real",
          "Protein bar | Mta",
          "Protein bar | GO ON",
          "PB&J protein bar | Trubar",
          "High protein Carmel crispy mini bites | Broderick's Brothers",
          "Protein bar | Chuji",
          "Huel Bar v3.1 Peanut Butter | Huel",
          "Dark Chocolate & Raspberry Vegan Protein Bar | Free Soul",
          "All Real Natural Protein Bar Choc Sea Salt | Unknown",
          "Chiefs protein bar | Unknown",
          "Coconut Almond | Atlas protein bar",
          "Complete protein bar: salted caramel | Huel",
          "Think High Protein Bar | Unknown",
          "Delly protein bar (nuts and coffee) | Unknown",
          "Quest Protein Bar  Mini | Quest",
          "High protein Low Sugar Bar | Atkinson low carb",
          "Plant based protein bar choc peanut butter | Custard",
          "Complete Protein Bar: Raspberry | Huel",
          "Chocolate Peanut Caramel bar | Pure Protein",
          "Protein  Bar | Gatorade",
          "Choc raspberry high protein bar | Bounce",
          "Delly protein bar | Delly",
          "Protein bar | Nu3",
          "Fulfil chocolate, salted caramel, flavor, vitamin and protein bar | Fu",
          "Snicker protein bar | Snicker",
          "Cinnamon roll protein bar | Perfect Keto",
          "Protein Bar - Egg Whites, Peanuts, Dates | RxBar",
          "Recovery protein bars | Décathlon",
          "Protein bar | Foodspring",
          "Simply  Protein - peanut butter chocolate | Unknown",
          "Protein Bar Cranberry Almond | You",
          "Protein bar | Eiyolab",
          "Tara’s Chocolate Decadence Protein Bar | Dive Bar",
          "Protein Bar Salty Caramel | Chiefs",
          "Pro Protein Bar | Pro",
          "Brownie crisp protein bar | N!ck’s",
          "Züber glütensiz protein bar | Züber",
          "PB chocolate chip Protein Bar | No Cow",
          "Protein balls 100g | Jo's Absolute Nutrition",
          "Protein bar | Eiyolan",
          "Protein Bar, Peanut Butter Chocolate Chip | No Cow",
          "Basic protein bar chocolate | Décathlon",
          "Protein bar | Unknown",
          "Almond protein Choc caramel bar flavour | Macro Mike",
          "Protein Crisp Bar | THe GO0D HaBITS",
          "Protein bar | Herbalife",
          "No junk raw protein bars | Papa steves",
          "Crunchy Vegan High Protein Chocolate Brownie Bar | IronMaxx",
          "Vegan Superbar | Cali Cali",
          "Protein bar vegan | Stc Nutrition",
          "Natural  Protein Bar | Puravida",
          "Protein bar kokos | Protein .si",
          "Protein Bar Best Whey | Best Whey",
          "Protein bar crunch | Pro bar",
          "Protein bar | Soyjoy",
          "No Junk Raw Protein Bar Blueberry Almond crunch | Papa Steve’s",
          "protein bar | Unknown",
          "Protein Bar Paçoca | Match",
          "Twenty’s protein bar  chocolate brownie | Your  goal",
          "Crispy protein bar | Optimum Nutrition",
          "Chocolate Mint Protein Bar | Zone Perfect",
          "Mint Chip Protein Bar | Hungry Buddha",
          "Banoffee Protein Bar | Fast",
          "Protein Bar Peanut butter | Nu3",
          "Chocolate Peanut Caramel Flavor Vitamin & Protein Bar | Fulfil",
          "Churro Protein Bar | One",
          "Peanut & chia protein bar | Nutrim",
          "No Cow  protein bar | No Cow",
          "Peanut butter cup protein bar | Pure Protein",
          "Protein Meal Advance Bar | Elevation",
          "Peanut butter chocolate Protein bar | Homemade",
          "Milk Chocolate & Mint Vitamin & Protein Bar | Fulfil",
          "White Choc Speculoos Protein Bar | Unknown",
          "Peanut Butter Vhey Protein Bar | Vegan power",
          "Boost + Protein | Cadbury",
          "Uniq2go Peanut XXL Protein Bar | Uniq2go",
          "Fit protein bar | Nu3",
          "Chocolate chip cookie dough | Quest Protein Bar",
          "Premium Protien Bar | Sports Factory",
          "Chocolate caramel flavour vitamin and protein bar | Fulfil",
          "Protein bar | Chiefs",
          "Snickers protein bar | Snickers",
          "Cocoa Coconut Protein Flapjacks Chocolate Flavour Topped 3 x | Natural",
          "Quest Bar Chocolate Chip Cookie Dough Protein Bar | Quest Nutrition"
         ],
         "legendgroup": "",
         "marker": {
          "color": "#636efa",
          "symbol": "circle"
         },
         "mode": "markers",
         "name": "",
         "orientation": "v",
         "showlegend": false,
         "type": "scatter",
         "x": {
          "bdata": "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",
          "dtype": "f8"
         },
         "xaxis": "x",
         "y": {
          "bdata": "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",
          "dtype": "f8"
         },
         "yaxis": "y"
        }
       ],
       "layout": {
        "annotations": [
         {
          "showarrow": false,
          "text": "High Protein • Low Cal",
          "x": 107.26673038635799,
          "xanchor": "left",
          "y": 17.75340425531915,
          "yanchor": "top"
         },
         {
          "showarrow": false,
          "text": "High Protein • High Cal",
          "x": 540.964627150742,
          "xanchor": "right",
          "y": 17.75340425531915,
          "yanchor": "top"
         },
         {
          "showarrow": false,
          "text": "Low Protein • Low Cal",
          "x": 107.26673038635799,
          "xanchor": "left",
          "y": 1.8317021276595744,
          "yanchor": "bottom"
         },
         {
          "showarrow": false,
          "text": "Low Protein • High Cal",
          "x": 540.964627150742,
          "xanchor": "right",
          "y": 1.8317021276595744,
          "yanchor": "bottom"
         }
        ],
        "legend": {
         "tracegroupgap": 0
        },
        "shapes": [
         {
          "line": {
           "dash": "dash"
          },
          "type": "line",
          "x0": 356,
          "x1": 356,
          "xref": "x",
          "y0": 0,
          "y1": 1,
          "yref": "y domain"
         },
         {
          "line": {
           "dash": "dash"
          },
          "type": "line",
          "x0": 0,
          "x1": 1,
          "xref": "x domain",
          "y0": 8.064516129032242,
          "y1": 8.064516129032242,
          "yref": "y"
         }
        ],
        "template": {
         "data": {
          "bar": [
           {
            "error_x": {
             "color": "#2a3f5f"
            },
            "error_y": {
             "color": "#2a3f5f"
            },
            "marker": {
             "line": {
              "color": "#E5ECF6",
              "width": 0.5
             },
             "pattern": {
              "fillmode": "overlay",
              "size": 10,
              "solidity": 0.2
             }
            },
            "type": "bar"
           }
          ],
          "barpolar": [
           {
            "marker": {
             "line": {
              "color": "#E5ECF6",
              "width": 0.5
             },
             "pattern": {
              "fillmode": "overlay",
              "size": 10,
              "solidity": 0.2
             }
            },
            "type": "barpolar"
           }
          ],
          "carpet": [
           {
            "aaxis": {
             "endlinecolor": "#2a3f5f",
             "gridcolor": "white",
             "linecolor": "white",
             "minorgridcolor": "white",
             "startlinecolor": "#2a3f5f"
            },
            "baxis": {
             "endlinecolor": "#2a3f5f",
             "gridcolor": "white",
             "linecolor": "white",
             "minorgridcolor": "white",
             "startlinecolor": "#2a3f5f"
            },
            "type": "carpet"
           }
          ],
          "choropleth": [
           {
            "colorbar": {
             "outlinewidth": 0,
             "ticks": ""
            },
            "type": "choropleth"
           }
          ],
          "contour": [
           {
            "colorbar": {
             "outlinewidth": 0,
             "ticks": ""
            },
            "colorscale": [
             [
              0,
              "#0d0887"
             ],
             [
              0.1111111111111111,
              "#46039f"
             ],
             [
              0.2222222222222222,
              "#7201a8"
             ],
             [
              0.3333333333333333,
              "#9c179e"
             ],
             [
              0.4444444444444444,
              "#bd3786"
             ],
             [
              0.5555555555555556,
              "#d8576b"
             ],
             [
              0.6666666666666666,
              "#ed7953"
             ],
             [
              0.7777777777777778,
              "#fb9f3a"
             ],
             [
              0.8888888888888888,
              "#fdca26"
             ],
             [
              1,
              "#f0f921"
             ]
            ],
            "type": "contour"
           }
          ],
          "contourcarpet": [
           {
            "colorbar": {
             "outlinewidth": 0,
             "ticks": ""
            },
            "type": "contourcarpet"
           }
          ],
          "heatmap": [
           {
            "colorbar": {
             "outlinewidth": 0,
             "ticks": ""
            },
            "colorscale": [
             [
              0,
              "#0d0887"
             ],
             [
              0.1111111111111111,
              "#46039f"
             ],
             [
              0.2222222222222222,
              "#7201a8"
             ],
             [
              0.3333333333333333,
              "#9c179e"
             ],
             [
              0.4444444444444444,
              "#bd3786"
             ],
             [
              0.5555555555555556,
              "#d8576b"
             ],
             [
              0.6666666666666666,
              "#ed7953"
             ],
             [
              0.7777777777777778,
              "#fb9f3a"
             ],
             [
              0.8888888888888888,
              "#fdca26"
             ],
             [
              1,
              "#f0f921"
             ]
            ],
            "type": "heatmap"
           }
          ],
          "histogram": [
           {
            "marker": {
             "pattern": {
              "fillmode": "overlay",
              "size": 10,
              "solidity": 0.2
             }
            },
            "type": "histogram"
           }
          ],
          "histogram2d": [
           {
            "colorbar": {
             "outlinewidth": 0,
             "ticks": ""
            },
            "colorscale": [
             [
              0,
              "#0d0887"
             ],
             [
              0.1111111111111111,
              "#46039f"
             ],
             [
              0.2222222222222222,
              "#7201a8"
             ],
             [
              0.3333333333333333,
              "#9c179e"
             ],
             [
              0.4444444444444444,
              "#bd3786"
             ],
             [
              0.5555555555555556,
              "#d8576b"
             ],
             [
              0.6666666666666666,
              "#ed7953"
             ],
             [
              0.7777777777777778,
              "#fb9f3a"
             ],
             [
              0.8888888888888888,
              "#fdca26"
             ],
             [
              1,
              "#f0f921"
             ]
            ],
            "type": "histogram2d"
           }
          ],
          "histogram2dcontour": [
           {
            "colorbar": {
             "outlinewidth": 0,
             "ticks": ""
            },
            "colorscale": [
             [
              0,
              "#0d0887"
             ],
             [
              0.1111111111111111,
              "#46039f"
             ],
             [
              0.2222222222222222,
              "#7201a8"
             ],
             [
              0.3333333333333333,
              "#9c179e"
             ],
             [
              0.4444444444444444,
              "#bd3786"
             ],
             [
              0.5555555555555556,
              "#d8576b"
             ],
             [
              0.6666666666666666,
              "#ed7953"
             ],
             [
              0.7777777777777778,
              "#fb9f3a"
             ],
             [
              0.8888888888888888,
              "#fdca26"
             ],
             [
              1,
              "#f0f921"
             ]
            ],
            "type": "histogram2dcontour"
           }
          ],
          "mesh3d": [
           {
            "colorbar": {
             "outlinewidth": 0,
             "ticks": ""
            },
            "type": "mesh3d"
           }
          ],
          "parcoords": [
           {
            "line": {
             "colorbar": {
              "outlinewidth": 0,
              "ticks": ""
             }
            },
            "type": "parcoords"
           }
          ],
          "pie": [
           {
            "automargin": true,
            "type": "pie"
           }
          ],
          "scatter": [
           {
            "fillpattern": {
             "fillmode": "overlay",
             "size": 10,
             "solidity": 0.2
            },
            "type": "scatter"
           }
          ],
          "scatter3d": [
           {
            "line": {
             "colorbar": {
              "outlinewidth": 0,
              "ticks": ""
             }
            },
            "marker": {
             "colorbar": {
              "outlinewidth": 0,
              "ticks": ""
             }
            },
            "type": "scatter3d"
           }
          ],
          "scattercarpet": [
           {
            "marker": {
             "colorbar": {
              "outlinewidth": 0,
              "ticks": ""
             }
            },
            "type": "scattercarpet"
           }
          ],
          "scattergeo": [
           {
            "marker": {
             "colorbar": {
              "outlinewidth": 0,
              "ticks": ""
             }
            },
            "type": "scattergeo"
           }
          ],
          "scattergl": [
           {
            "marker": {
             "colorbar": {
              "outlinewidth": 0,
              "ticks": ""
             }
            },
            "type": "scattergl"
           }
          ],
          "scattermap": [
           {
            "marker": {
             "colorbar": {
              "outlinewidth": 0,
              "ticks": ""
             }
            },
            "type": "scattermap"
           }
          ],
          "scattermapbox": [
           {
            "marker": {
             "colorbar": {
              "outlinewidth": 0,
              "ticks": ""
             }
            },
            "type": "scattermapbox"
           }
          ],
          "scatterpolar": [
           {
            "marker": {
             "colorbar": {
              "outlinewidth": 0,
              "ticks": ""
             }
            },
            "type": "scatterpolar"
           }
          ],
          "scatterpolargl": [
           {
            "marker": {
             "colorbar": {
              "outlinewidth": 0,
              "ticks": ""
             }
            },
            "type": "scatterpolargl"
           }
          ],
          "scatterternary": [
           {
            "marker": {
             "colorbar": {
              "outlinewidth": 0,
              "ticks": ""
             }
            },
            "type": "scatterternary"
           }
          ],
          "surface": [
           {
            "colorbar": {
             "outlinewidth": 0,
             "ticks": ""
            },
            "colorscale": [
             [
              0,
              "#0d0887"
             ],
             [
              0.1111111111111111,
              "#46039f"
             ],
             [
              0.2222222222222222,
              "#7201a8"
             ],
             [
              0.3333333333333333,
              "#9c179e"
             ],
             [
              0.4444444444444444,
              "#bd3786"
             ],
             [
              0.5555555555555556,
              "#d8576b"
             ],
             [
              0.6666666666666666,
              "#ed7953"
             ],
             [
              0.7777777777777778,
              "#fb9f3a"
             ],
             [
              0.8888888888888888,
              "#fdca26"
             ],
             [
              1,
              "#f0f921"
             ]
            ],
            "type": "surface"
           }
          ],
          "table": [
           {
            "cells": {
             "fill": {
              "color": "#EBF0F8"
             },
             "line": {
              "color": "white"
             }
            },
            "header": {
             "fill": {
              "color": "#C8D4E3"
             },
             "line": {
              "color": "white"
             }
            },
            "type": "table"
           }
          ]
         },
         "layout": {
          "annotationdefaults": {
           "arrowcolor": "#2a3f5f",
           "arrowhead": 0,
           "arrowwidth": 1
          },
          "autotypenumbers": "strict",
          "coloraxis": {
           "colorbar": {
            "outlinewidth": 0,
            "ticks": ""
           }
          },
          "colorscale": {
           "diverging": [
            [
             0,
             "#8e0152"
            ],
            [
             0.1,
             "#c51b7d"
            ],
            [
             0.2,
             "#de77ae"
            ],
            [
             0.3,
             "#f1b6da"
            ],
            [
             0.4,
             "#fde0ef"
            ],
            [
             0.5,
             "#f7f7f7"
            ],
            [
             0.6,
             "#e6f5d0"
            ],
            [
             0.7,
             "#b8e186"
            ],
            [
             0.8,
             "#7fbc41"
            ],
            [
             0.9,
             "#4d9221"
            ],
            [
             1,
             "#276419"
            ]
           ],
           "sequential": [
            [
             0,
             "#0d0887"
            ],
            [
             0.1111111111111111,
             "#46039f"
            ],
            [
             0.2222222222222222,
             "#7201a8"
            ],
            [
             0.3333333333333333,
             "#9c179e"
            ],
            [
             0.4444444444444444,
             "#bd3786"
            ],
            [
             0.5555555555555556,
             "#d8576b"
            ],
            [
             0.6666666666666666,
             "#ed7953"
            ],
            [
             0.7777777777777778,
             "#fb9f3a"
            ],
            [
             0.8888888888888888,
             "#fdca26"
            ],
            [
             1,
             "#f0f921"
            ]
           ],
           "sequentialminus": [
            [
             0,
             "#0d0887"
            ],
            [
             0.1111111111111111,
             "#46039f"
            ],
            [
             0.2222222222222222,
             "#7201a8"
            ],
            [
             0.3333333333333333,
             "#9c179e"
            ],
            [
             0.4444444444444444,
             "#bd3786"
            ],
            [
             0.5555555555555556,
             "#d8576b"
            ],
            [
             0.6666666666666666,
             "#ed7953"
            ],
            [
             0.7777777777777778,
             "#fb9f3a"
            ],
            [
             0.8888888888888888,
             "#fdca26"
            ],
            [
             1,
             "#f0f921"
            ]
           ]
          },
          "colorway": [
           "#636efa",
           "#EF553B",
           "#00cc96",
           "#ab63fa",
           "#FFA15A",
           "#19d3f3",
           "#FF6692",
           "#B6E880",
           "#FF97FF",
           "#FECB52"
          ],
          "font": {
           "color": "#2a3f5f"
          },
          "geo": {
           "bgcolor": "white",
           "lakecolor": "white",
           "landcolor": "#E5ECF6",
           "showlakes": true,
           "showland": true,
           "subunitcolor": "white"
          },
          "hoverlabel": {
           "align": "left"
          },
          "hovermode": "closest",
          "mapbox": {
           "style": "light"
          },
          "paper_bgcolor": "white",
          "plot_bgcolor": "#E5ECF6",
          "polar": {
           "angularaxis": {
            "gridcolor": "white",
            "linecolor": "white",
            "ticks": ""
           },
           "bgcolor": "#E5ECF6",
           "radialaxis": {
            "gridcolor": "white",
            "linecolor": "white",
            "ticks": ""
           }
          },
          "scene": {
           "xaxis": {
            "backgroundcolor": "#E5ECF6",
            "gridcolor": "white",
            "gridwidth": 2,
            "linecolor": "white",
            "showbackground": true,
            "ticks": "",
            "zerolinecolor": "white"
           },
           "yaxis": {
            "backgroundcolor": "#E5ECF6",
            "gridcolor": "white",
            "gridwidth": 2,
            "linecolor": "white",
            "showbackground": true,
            "ticks": "",
            "zerolinecolor": "white"
           },
           "zaxis": {
            "backgroundcolor": "#E5ECF6",
            "gridcolor": "white",
            "gridwidth": 2,
            "linecolor": "white",
            "showbackground": true,
            "ticks": "",
            "zerolinecolor": "white"
           }
          },
          "shapedefaults": {
           "line": {
            "color": "#2a3f5f"
           }
          },
          "ternary": {
           "aaxis": {
            "gridcolor": "white",
            "linecolor": "white",
            "ticks": ""
           },
           "baxis": {
            "gridcolor": "white",
            "linecolor": "white",
            "ticks": ""
           },
           "bgcolor": "#E5ECF6",
           "caxis": {
            "gridcolor": "white",
            "linecolor": "white",
            "ticks": ""
           }
          },
          "title": {
           "x": 0.05
          },
          "xaxis": {
           "automargin": true,
           "gridcolor": "white",
           "linecolor": "white",
           "ticks": "",
           "title": {
            "standoff": 15
           },
           "zerolinecolor": "white",
           "zerolinewidth": 2
          },
          "yaxis": {
           "automargin": true,
           "gridcolor": "white",
           "linecolor": "white",
           "ticks": "",
           "title": {
            "standoff": 15
           },
           "zerolinecolor": "white",
           "zerolinewidth": 2
          }
         }
        },
        "title": {
         "text": "Protein Bars: Calories vs Protein Density (hover for name | brand)"
        },
        "xaxis": {
         "anchor": "y",
         "domain": [
          0,
          1
         ],
         "title": {
          "text": "Energy (kcal per 100g)"
         }
        },
        "yaxis": {
         "anchor": "x",
         "domain": [
          0,
          1
         ],
         "title": {
          "text": "Protein (g per 100 kcal)"
         }
        }
       }
      },
      "image/png": "[encoded data removed]"
     },
     "metadata": {},
     "output_type": "display_data"
    }
   ],
   "source": [
    "import numpy as np\n",
    "import plotly.express as px\n",
    "\n",
    "# ---------- prep ----------\n",
    "# Combined hover label: \"Product | Brand\" (fallbacks if missing)\n",
    "name = df_plot[\"product_name_en\"].fillna(df_plot[\"brands\"]).fillna(df_plot[\"code\"].astype(str))\n",
    "brand = df_plot[\"brands\"].fillna(\"Unknown\")\n",
    "df_plot[\"hover_label\"] = (name.astype(str) + \" | \" + brand.astype(str)).str.slice(0, 70)  # trim for neatness\n",
    "\n",
    "# Axis thresholds (already computed earlier; recompute here if needed)\n",
    "x_thr = float(np.median(df_plot[\"energy-kcal_value\"]))\n",
    "y_thr = float(np.median(df_plot[\"protein_per_100kcal\"]))\n",
    "\n",
    "# For placing quadrant labels, use data-driven corners with a small padding\n",
    "x_min, x_max = float(df_plot[\"energy-kcal_value\"].min()), float(df_plot[\"energy-kcal_value\"].max())\n",
    "y_min, y_max = float(df_plot[\"protein_per_100kcal\"].min()), float(df_plot[\"protein_per_100kcal\"].max())\n",
    "pad_x = 0.02 * (x_max - x_min) if x_max > x_min else 1.0\n",
    "pad_y = 0.02 * (y_max - y_min) if y_max > y_min else 0.1\n",
    "\n",
    "# ---------- figure ----------\n",
    "fig = px.scatter(\n",
    "    df_plot,\n",
    "    x=\"energy-kcal_value\",\n",
    "    y=\"protein_per_100kcal\",\n",
    "    hover_name=\"hover_label\",        # drives %{hovertext}\n",
    "    hover_data={},                   # don't include any extra fields\n",
    "    title=\"Protein Bars: Calories vs Protein Density (hover for name | brand)\"\n",
    ")\n",
    "\n",
    "# Quadrant lines\n",
    "fig.add_vline(x=x_thr, line_dash=\"dash\")\n",
    "fig.add_hline(y=y_thr, line_dash=\"dash\")\n",
    "\n",
    "# Axes titles\n",
    "fig.update_xaxes(title=\"Energy (kcal per 100g)\")\n",
    "fig.update_yaxes(title=\"Protein (g per 100 kcal)\")\n",
    "\n",
    "# Hover: show only the combined label (no x/y, no extra box)\n",
    "fig.update_traces(hovertemplate=\"%{hovertext}<extra></extra>\")\n",
    "\n",
    "# ---------- quadrant text labels ----------\n",
    "fig.add_annotation(x=x_min + pad_x, y=y_max - pad_y,\n",
    "                   text=\"High Protein • Low Cal\", showarrow=False, xanchor=\"left\",  yanchor=\"top\")\n",
    "fig.add_annotation(x=x_max - pad_x, y=y_max - pad_y,\n",
    "                   text=\"High Protein • High Cal\", showarrow=False, xanchor=\"right\", yanchor=\"top\")\n",
    "fig.add_annotation(x=x_min + pad_x, y=y_min + pad_y,\n",
    "                   text=\"Low Protein • Low Cal\",  showarrow=False, xanchor=\"left\",  yanchor=\"bottom\")\n",
    "fig.add_annotation(x=x_max - pad_x, y=y_min + pad_y,\n",
    "                   text=\"Low Protein • High Cal\", showarrow=False, xanchor=\"right\", yanchor=\"bottom\")\n",
    "\n",
    "fig.show()\n"
   ]
  },
  {
   "cell_type": "code",
   "execution_count": 10,
   "id": "f5ce336e-ec43-4530-a66f-b4077d3a9d36",
   "metadata": {},
   "outputs": [
    {
     "name": "stdout",
     "output_type": "stream",
     "text": [
      "Exported to: docs\\irish_protein_bars_scatter.html and assets\\irish_protein_bars_scatter.png\n"
     ]
    }
   ],
   "source": [
    "# Create folders if missing, then export HTML + PNG\n",
    "from pathlib import Path\n",
    "\n",
    "out_docs = Path(\"docs\")\n",
    "out_assets = Path(\"assets\")\n",
    "out_docs.mkdir(parents=True, exist_ok=True)\n",
    "out_assets.mkdir(parents=True, exist_ok=True)\n",
    "\n",
    "# Save interactive HTML for GitHub Pages\n",
    "fig.write_html(out_docs / \"irish_protein_bars_scatter.html\",\n",
    "               include_plotlyjs=\"cdn\", full_html=True)\n",
    "\n",
    "# Save static preview image for README (install kaleido once if needed)\n",
    "# !pip install -U kaleido\n",
    "fig.write_image(out_assets / \"irish_protein_bars_scatter.png\",\n",
    "                scale=2, width=1100, height=700)\n",
    "\n",
    "print(\"Exported to:\",\n",
    "      out_docs / \"irish_protein_bars_scatter.html\",\n",
    "      \"and\",\n",
    "      out_assets / \"irish_protein_bars_scatter.png\")\n"
   ]
  },
  {
   "cell_type": "code",
   "execution_count": 11,
   "id": "cc04d183-21b0-4922-8b6e-1daabb639d1a",
   "metadata": {},
   "outputs": [],
   "source": [
    "# Save interactive HTML (hosted by GitHub Pages)\n",
    "fig.write_html(\"docs/irish_protein_bars_scatter.html\", include_plotlyjs=\"cdn\", full_html=True)\n",
    "\n",
    "# Also save a static preview image for the README\n",
    "# (one-time install) !pip install -U kaleido\n",
    "fig.write_image(\"assets/irish_protein_bars_scatter.png\", scale=2, width=1100, height=700)\n"
   ]
  },
  {
   "cell_type": "code",
   "execution_count": 12,
   "id": "9e0b97ff-6837-4305-b118-506ed095d5d8",
   "metadata": {},
   "outputs": [
    {
     "name": "stdout",
     "output_type": "stream",
     "text": [
      "\n",
      "Top 5 CUTTING (High Protein • Low Cal) (furthest from origin in this quadrant):\n",
      "                       display_name         brands energy-kcal_value protein_per_100kcal dist_from_origin\n",
      "                        Protein bar          Linea               105               10.48           251.01\n",
      "  Milk chocolate crunch protein bar         Fulfil               145               10.34           211.01\n",
      "                        Proteín bar         Ritter               148                8.11           208.00\n",
      "          Simply protein crispy bar Simply protein               150               10.00           206.01\n",
      "Dark chocolate sea salt protein bar Simply protein               150               10.00           206.01\n",
      "\n",
      "Top 5 BULKING (High Protein • High Cal) (furthest from origin in this quadrant):\n",
      "                       display_name           brands energy-kcal_value protein_per_100kcal dist_from_origin\n",
      "                    43% protein bar              NaN               440                9.77            84.02\n",
      "                Premium Protien Bar   Sports Factory               406                9.11            50.01\n",
      "       Pretty Pistachio Protein Bar Personal Protein               405                9.87            49.49\n",
      "          Peanut & chia protein bar           Nutrim               404                9.41            48.02\n",
      "Chocolate peanut butter protein bar     Pure protein               400               10.00            44.04\n",
      "\n",
      "Bottom 5 WORST (Low Protein • High Cal) (furthest from origin in this quadrant):\n",
      "            display_name       brands energy-kcal_value protein_per_100kcal dist_from_origin\n",
      "      Protein energy bar Power Crunch               550                5.91           194.01\n",
      "Salted caramel seed bars         Nine               530                3.16           174.07\n",
      "       Mocha Protein bar        Coles               521                5.10           165.08\n",
      "             Protein Bar      Gom gom               520                5.38           164.02\n",
      "             Protein bar       Soyjoy               516                4.65           160.04\n"
     ]
    }
   ],
   "source": [
    "import numpy as np\n",
    "import pandas as pd\n",
    "\n",
    "# Ensure thresholds exist (recompute if needed)\n",
    "x_thr = float(np.median(df_plot[\"energy-kcal_value\"]))\n",
    "y_thr = float(np.median(df_plot[\"protein_per_100kcal\"]))\n",
    "\n",
    "# Display name for printing\n",
    "display_name = (\n",
    "    df_plot[\"product_name_en\"]\n",
    "    .fillna(df_plot[\"brands\"])\n",
    "    .fillna(df_plot[\"code\"].astype(str))\n",
    ")\n",
    "df_tmp = df_plot.copy()\n",
    "df_tmp[\"display_name\"] = display_name\n",
    "\n",
    "# Distance from the intersection (origin)\n",
    "x = df_tmp[\"energy-kcal_value\"].astype(float)\n",
    "y = df_tmp[\"protein_per_100kcal\"].astype(float)\n",
    "df_tmp[\"dist_from_origin\"] = np.sqrt((x - x_thr)**2 + (y - y_thr)**2)\n",
    "\n",
    "# Quadrant conditions\n",
    "cutting_q = (x < x_thr) & (y > y_thr)   # High protein, low calories\n",
    "bulking_q = (x > x_thr) & (y > y_thr)   # High protein, high calories\n",
    "worst_q   = (x > x_thr) & (y < y_thr)   # Low protein, high calories\n",
    "\n",
    "def top5(df, mask, title):\n",
    "    cols = [\"display_name\", \"brands\", \"energy-kcal_value\", \"protein_per_100kcal\", \"dist_from_origin\"]\n",
    "    out = (df.loc[mask, cols]\n",
    "             .sort_values(\"dist_from_origin\", ascending=False)\n",
    "             .head(5))\n",
    "    print(f\"\\n{title} (furthest from origin in this quadrant):\")\n",
    "    if out.empty:\n",
    "        print(\"  — no items in this quadrant —\")\n",
    "    else:\n",
    "        # Neat formatting\n",
    "        print(out.to_string(index=False, \n",
    "                            formatters={\n",
    "                                \"energy-kcal_value\": \"{:.0f}\".format,\n",
    "                                \"protein_per_100kcal\": \"{:.2f}\".format,\n",
    "                                \"dist_from_origin\": \"{:.2f}\".format\n",
    "                            }))\n",
    "    return out\n",
    "\n",
    "top5_cutting = top5(df_tmp, cutting_q, \"Top 5 CUTTING (High Protein • Low Cal)\")\n",
    "top5_bulking = top5(df_tmp, bulking_q, \"Top 5 BULKING (High Protein • High Cal)\")\n",
    "bottom5_worst = top5(df_tmp, worst_q,   \"Bottom 5 WORST (Low Protein • High Cal)\")\n"
   ]
  },
  {
   "cell_type": "code",
   "execution_count": 13,
   "id": "373fae7d-f8dd-41b4-8e6d-c2fc77280ff2",
   "metadata": {},
   "outputs": [
    {
     "data": {
      "text/html": [
       "<div>\n",
       "<style scoped>\n",
       "    .dataframe tbody tr th:only-of-type {\n",
       "        vertical-align: middle;\n",
       "    }\n",
       "\n",
       "    .dataframe tbody tr th {\n",
       "        vertical-align: top;\n",
       "    }\n",
       "\n",
       "    .dataframe thead th {\n",
       "        text-align: right;\n",
       "    }\n",
       "</style>\n",
       "<table border=\"1\" class=\"dataframe\">\n",
       "  <thead>\n",
       "    <tr style=\"text-align: right;\">\n",
       "      <th></th>\n",
       "      <th>z_kcal</th>\n",
       "      <th>score_kcal_0_100</th>\n",
       "      <th>z_proteinpd</th>\n",
       "      <th>score_proteinpd_0_100</th>\n",
       "      <th>z_sugar</th>\n",
       "      <th>score_sugar_0_100</th>\n",
       "      <th>z_fiber</th>\n",
       "      <th>score_fiber_0_100</th>\n",
       "      <th>z_satfat</th>\n",
       "      <th>score_satfat_0_100</th>\n",
       "    </tr>\n",
       "  </thead>\n",
       "  <tbody>\n",
       "    <tr>\n",
       "      <th>0</th>\n",
       "      <td>-0.819547</td>\n",
       "      <td>20.623721</td>\n",
       "      <td>-1.705005</td>\n",
       "      <td>4.409675</td>\n",
       "      <td>-1.784279</td>\n",
       "      <td>3.718915</td>\n",
       "      <td>-0.569649</td>\n",
       "      <td>28.445778</td>\n",
       "      <td>0.801311</td>\n",
       "      <td>78.852417</td>\n",
       "    </tr>\n",
       "    <tr>\n",
       "      <th>1</th>\n",
       "      <td>1.149646</td>\n",
       "      <td>87.485507</td>\n",
       "      <td>0.530950</td>\n",
       "      <td>70.227319</td>\n",
       "      <td>0.936301</td>\n",
       "      <td>82.544083</td>\n",
       "      <td>-0.569649</td>\n",
       "      <td>28.445778</td>\n",
       "      <td>1.227078</td>\n",
       "      <td>89.010338</td>\n",
       "    </tr>\n",
       "    <tr>\n",
       "      <th>2</th>\n",
       "      <td>0.595213</td>\n",
       "      <td>72.414937</td>\n",
       "      <td>0.022829</td>\n",
       "      <td>50.910667</td>\n",
       "      <td>0.354660</td>\n",
       "      <td>63.857767</td>\n",
       "      <td>0.331931</td>\n",
       "      <td>63.002938</td>\n",
       "      <td>0.218682</td>\n",
       "      <td>58.655118</td>\n",
       "    </tr>\n",
       "    <tr>\n",
       "      <th>3</th>\n",
       "      <td>1.608487</td>\n",
       "      <td>94.613568</td>\n",
       "      <td>-1.757475</td>\n",
       "      <td>3.941841</td>\n",
       "      <td>0.185796</td>\n",
       "      <td>57.369761</td>\n",
       "      <td>-0.827244</td>\n",
       "      <td>20.404946</td>\n",
       "      <td>0.554814</td>\n",
       "      <td>71.048910</td>\n",
       "    </tr>\n",
       "    <tr>\n",
       "      <th>4</th>\n",
       "      <td>-0.422841</td>\n",
       "      <td>33.620575</td>\n",
       "      <td>1.056748</td>\n",
       "      <td>85.468661</td>\n",
       "      <td>0.842488</td>\n",
       "      <td>80.024249</td>\n",
       "      <td>-0.923842</td>\n",
       "      <td>17.778438</td>\n",
       "      <td>-0.341538</td>\n",
       "      <td>36.634939</td>\n",
       "    </tr>\n",
       "  </tbody>\n",
       "</table>\n",
       "</div>"
      ],
      "text/plain": [
       "     z_kcal  score_kcal_0_100  z_proteinpd  score_proteinpd_0_100   z_sugar  \\\n",
       "0 -0.819547         20.623721    -1.705005               4.409675 -1.784279   \n",
       "1  1.149646         87.485507     0.530950              70.227319  0.936301   \n",
       "2  0.595213         72.414937     0.022829              50.910667  0.354660   \n",
       "3  1.608487         94.613568    -1.757475               3.941841  0.185796   \n",
       "4 -0.422841         33.620575     1.056748              85.468661  0.842488   \n",
       "\n",
       "   score_sugar_0_100   z_fiber  score_fiber_0_100  z_satfat  \\\n",
       "0           3.718915 -0.569649          28.445778  0.801311   \n",
       "1          82.544083 -0.569649          28.445778  1.227078   \n",
       "2          63.857767  0.331931          63.002938  0.218682   \n",
       "3          57.369761 -0.827244          20.404946  0.554814   \n",
       "4          80.024249 -0.923842          17.778438 -0.341538   \n",
       "\n",
       "   score_satfat_0_100  \n",
       "0           78.852417  \n",
       "1           89.010338  \n",
       "2           58.655118  \n",
       "3           71.048910  \n",
       "4           36.634939  "
      ]
     },
     "execution_count": 13,
     "metadata": {},
     "output_type": "execute_result"
    }
   ],
   "source": [
    "import numpy as np\n",
    "from math import erf, sqrt\n",
    "\n",
    "df_scored = df_plot.copy()  # start from your plotting DF (already has protein_per_100kcal)\n",
    "\n",
    "def z_and_score(series, higher_is_better=True):\n",
    "    \"\"\"Return (z, score_0_100) where score is based on normal CDF of z.\n",
    "       If higher_is_better=False, z is negated so lower values get higher scores.\"\"\"\n",
    "    s = pd.to_numeric(series, errors=\"coerce\").astype(float)\n",
    "    mu = np.nanmean(s)\n",
    "    sigma = np.nanstd(s)\n",
    "    if sigma == 0 or np.isnan(sigma):\n",
    "        z = np.zeros_like(s)\n",
    "    else:\n",
    "        z = (s - mu) / sigma\n",
    "    if not higher_is_better:\n",
    "        z = -z\n",
    "    # normal CDF mapping to 0..100: score = 100 * Phi(z)\n",
    "    cdf = np.vectorize(lambda t: 0.5 * (1.0 + erf(t / sqrt(2.0))))\n",
    "    score = 100.0 * cdf(z)\n",
    "    return z, score\n",
    "\n",
    "# Define the variables to score: (new_prefix, column_name, higher_is_better)\n",
    "to_score = [\n",
    "    (\"kcal\",      \"energy-kcal_value\",      False),  # lower kcal is better\n",
    "    (\"proteinpd\", \"protein_per_100kcal\",    True ),  # higher protein density is better\n",
    "    (\"sugar\",     \"sugars_value\",           False),  # lower sugar is better\n",
    "    (\"fiber\",     \"fiber_value\",            True ),  # higher fiber is better\n",
    "    (\"satfat\",    \"saturated-fat_value\",    False),  # lower sat fat is better\n",
    "]\n",
    "\n",
    "# Compute z & 0-100 score per variable\n",
    "for prefix, col, hib in to_score:\n",
    "    z, sc = z_and_score(df_scored[col], higher_is_better=hib)\n",
    "    df_scored[f\"z_{prefix}\"] = z\n",
    "    df_scored[f\"score_{prefix}_0_100\"] = sc\n",
    "\n",
    "# Quick peek at the new columns\n",
    "df_scored[[c for c in df_scored.columns if c.startswith(\"z_\") or c.startswith(\"score_\")]].head()\n"
   ]
  },
  {
   "cell_type": "code",
   "execution_count": 14,
   "id": "d883ae13-4407-4afb-97ea-932000fdb5ae",
   "metadata": {},
   "outputs": [
    {
     "name": "stdout",
     "output_type": "stream",
     "text": [
      "Top 10 bars by Cutting Score:\n",
      "                                       product_name_en            brands energy-kcal_value protein_per_100kcal sugars_value fiber_value saturated-fat_value cutting_score_0_100\n",
      "               Twenty’s protein bar  chocolate brownie        Your  goal               188               18.09          0.9        30.0                 1.4                92.9\n",
      "                                     Quest protein bar             Quest               180               11.11          1.0        14.0                 1.5                89.0\n",
      "Sour watermelon cold pressed protein bar - Fibre Boost               NaN               227               15.81          0.3        44.7                 0.3                89.0\n",
      "                                   No Cow  protein bar            No Cow               190               11.05          1.0        17.0                 1.0                88.7\n",
      "                                     Quest protein bar             Quest               190               11.05          1.0        13.0                 0.0                88.0\n",
      "                                           Protein bar             Linea               105               10.48          1.3         2.7                 2.5                87.5\n",
      "               Chocolate Chip Cookie Dough Protein Bar             Quest               190               11.05          1.0        12.0                 2.5                87.3\n",
      "                                                 Quest Quest protein bar               180               11.11          0.0        13.0                33.0                86.4\n",
      "                   Dark chocolate sea salt protein bar    Simply protein               150               10.00          1.0         8.0                 1.0                86.0\n",
      "                          Chocolate Deluxe Protein Bar      Pure Protein               180               11.67          4.0         2.0                 3.5                85.8\n",
      "\n",
      "Saved full scored dataset to: protein_bars_scored.csv\n"
     ]
    },
    {
     "data": {
      "text/html": [
       "<div>\n",
       "<style scoped>\n",
       "    .dataframe tbody tr th:only-of-type {\n",
       "        vertical-align: middle;\n",
       "    }\n",
       "\n",
       "    .dataframe tbody tr th {\n",
       "        vertical-align: top;\n",
       "    }\n",
       "\n",
       "    .dataframe thead th {\n",
       "        text-align: right;\n",
       "    }\n",
       "</style>\n",
       "<table border=\"1\" class=\"dataframe\">\n",
       "  <thead>\n",
       "    <tr style=\"text-align: right;\">\n",
       "      <th></th>\n",
       "      <th>product_name_en</th>\n",
       "      <th>brands</th>\n",
       "      <th>energy-kcal_value</th>\n",
       "      <th>protein_per_100kcal</th>\n",
       "      <th>sugars_value</th>\n",
       "      <th>fiber_value</th>\n",
       "      <th>saturated-fat_value</th>\n",
       "      <th>cutting_score_0_100</th>\n",
       "    </tr>\n",
       "  </thead>\n",
       "  <tbody>\n",
       "    <tr>\n",
       "      <th>287</th>\n",
       "      <td>Twenty’s protein bar  chocolate brownie</td>\n",
       "      <td>Your  goal</td>\n",
       "      <td>188.000000</td>\n",
       "      <td>18.085106</td>\n",
       "      <td>0.880000</td>\n",
       "      <td>30.000000</td>\n",
       "      <td>1.400000</td>\n",
       "      <td>92.935507</td>\n",
       "    </tr>\n",
       "    <tr>\n",
       "      <th>143</th>\n",
       "      <td>Quest protein bar</td>\n",
       "      <td>Quest</td>\n",
       "      <td>180.000000</td>\n",
       "      <td>11.111111</td>\n",
       "      <td>1.000000</td>\n",
       "      <td>14.000000</td>\n",
       "      <td>1.500000</td>\n",
       "      <td>88.978625</td>\n",
       "    </tr>\n",
       "    <tr>\n",
       "      <th>158</th>\n",
       "      <td>Sour watermelon cold pressed protein bar - Fib...</td>\n",
       "      <td>NaN</td>\n",
       "      <td>226.666667</td>\n",
       "      <td>15.808824</td>\n",
       "      <td>0.333333</td>\n",
       "      <td>44.666667</td>\n",
       "      <td>0.333333</td>\n",
       "      <td>88.974959</td>\n",
       "    </tr>\n",
       "    <tr>\n",
       "      <th>297</th>\n",
       "      <td>No Cow  protein bar</td>\n",
       "      <td>No Cow</td>\n",
       "      <td>190.000000</td>\n",
       "      <td>11.052632</td>\n",
       "      <td>1.000000</td>\n",
       "      <td>17.000000</td>\n",
       "      <td>1.000000</td>\n",
       "      <td>88.691453</td>\n",
       "    </tr>\n",
       "    <tr>\n",
       "      <th>212</th>\n",
       "      <td>Quest protein bar</td>\n",
       "      <td>Quest</td>\n",
       "      <td>190.000000</td>\n",
       "      <td>11.052632</td>\n",
       "      <td>1.000000</td>\n",
       "      <td>13.000000</td>\n",
       "      <td>0.000000</td>\n",
       "      <td>87.976885</td>\n",
       "    </tr>\n",
       "    <tr>\n",
       "      <th>33</th>\n",
       "      <td>Protein bar</td>\n",
       "      <td>Linea</td>\n",
       "      <td>105.000000</td>\n",
       "      <td>10.476190</td>\n",
       "      <td>1.300000</td>\n",
       "      <td>2.700000</td>\n",
       "      <td>2.500000</td>\n",
       "      <td>87.452015</td>\n",
       "    </tr>\n",
       "    <tr>\n",
       "      <th>181</th>\n",
       "      <td>Chocolate Chip Cookie Dough Protein Bar</td>\n",
       "      <td>Quest</td>\n",
       "      <td>190.000000</td>\n",
       "      <td>11.052632</td>\n",
       "      <td>1.000000</td>\n",
       "      <td>12.000000</td>\n",
       "      <td>2.500000</td>\n",
       "      <td>87.280827</td>\n",
       "    </tr>\n",
       "    <tr>\n",
       "      <th>144</th>\n",
       "      <td>Quest</td>\n",
       "      <td>Quest protein bar</td>\n",
       "      <td>180.000000</td>\n",
       "      <td>11.111111</td>\n",
       "      <td>0.000000</td>\n",
       "      <td>13.000000</td>\n",
       "      <td>33.000000</td>\n",
       "      <td>86.440401</td>\n",
       "    </tr>\n",
       "    <tr>\n",
       "      <th>211</th>\n",
       "      <td>Dark chocolate sea salt protein bar</td>\n",
       "      <td>Simply protein</td>\n",
       "      <td>150.000000</td>\n",
       "      <td>10.000000</td>\n",
       "      <td>1.000000</td>\n",
       "      <td>8.000000</td>\n",
       "      <td>1.000000</td>\n",
       "      <td>85.989895</td>\n",
       "    </tr>\n",
       "    <tr>\n",
       "      <th>208</th>\n",
       "      <td>Chocolate Deluxe Protein Bar</td>\n",
       "      <td>Pure Protein</td>\n",
       "      <td>180.000000</td>\n",
       "      <td>11.666667</td>\n",
       "      <td>4.000000</td>\n",
       "      <td>2.000000</td>\n",
       "      <td>3.500000</td>\n",
       "      <td>85.756266</td>\n",
       "    </tr>\n",
       "  </tbody>\n",
       "</table>\n",
       "</div>"
      ],
      "text/plain": [
       "                                       product_name_en             brands  \\\n",
       "287            Twenty’s protein bar  chocolate brownie         Your  goal   \n",
       "143                                  Quest protein bar              Quest   \n",
       "158  Sour watermelon cold pressed protein bar - Fib...                NaN   \n",
       "297                                No Cow  protein bar             No Cow   \n",
       "212                                  Quest protein bar              Quest   \n",
       "33                                         Protein bar              Linea   \n",
       "181            Chocolate Chip Cookie Dough Protein Bar              Quest   \n",
       "144                                              Quest  Quest protein bar   \n",
       "211                Dark chocolate sea salt protein bar     Simply protein   \n",
       "208                       Chocolate Deluxe Protein Bar       Pure Protein   \n",
       "\n",
       "     energy-kcal_value  protein_per_100kcal  sugars_value  fiber_value  \\\n",
       "287         188.000000            18.085106      0.880000    30.000000   \n",
       "143         180.000000            11.111111      1.000000    14.000000   \n",
       "158         226.666667            15.808824      0.333333    44.666667   \n",
       "297         190.000000            11.052632      1.000000    17.000000   \n",
       "212         190.000000            11.052632      1.000000    13.000000   \n",
       "33          105.000000            10.476190      1.300000     2.700000   \n",
       "181         190.000000            11.052632      1.000000    12.000000   \n",
       "144         180.000000            11.111111      0.000000    13.000000   \n",
       "211         150.000000            10.000000      1.000000     8.000000   \n",
       "208         180.000000            11.666667      4.000000     2.000000   \n",
       "\n",
       "     saturated-fat_value  cutting_score_0_100  \n",
       "287             1.400000            92.935507  \n",
       "143             1.500000            88.978625  \n",
       "158             0.333333            88.974959  \n",
       "297             1.000000            88.691453  \n",
       "212             0.000000            87.976885  \n",
       "33              2.500000            87.452015  \n",
       "181             2.500000            87.280827  \n",
       "144            33.000000            86.440401  \n",
       "211             1.000000            85.989895  \n",
       "208             3.500000            85.756266  "
      ]
     },
     "execution_count": 14,
     "metadata": {},
     "output_type": "execute_result"
    }
   ],
   "source": [
    "import numpy as np\n",
    "import pandas as pd\n",
    "\n",
    "# ---- 1) Define editable weights (they will be normalized to sum to 1) ----\n",
    "# Your current preference:\n",
    "weights = {\n",
    "    \"score_kcal_0_100\":      0.50,  # lower kcal better (already reflected in *_0_100)\n",
    "    \"score_proteinpd_0_100\": 0.35,  # protein per 100 kcal\n",
    "    \"score_sugar_0_100\":     0.06,  # lower sugar better\n",
    "    \"score_fiber_0_100\":     0.06,  # higher fiber better\n",
    "    \"score_satfat_0_100\":    0.03,  # lower sat fat better\n",
    "}\n",
    "\n",
    "# Helper: ensure all required score columns exist\n",
    "missing = [k for k in weights.keys() if k not in df_scored.columns]\n",
    "if missing:\n",
    "    raise ValueError(f\"Missing score columns: {missing}. \"\n",
    "                     f\"Make sure you ran the z-score/score cell to create them.\")\n",
    "\n",
    "# Normalize weights to sum to 1 (so final score stays on 0–100 scale)\n",
    "w_sum = sum(weights.values())\n",
    "weights_norm = {k: v / w_sum for k, v in weights.items()} if w_sum != 0 else weights\n",
    "\n",
    "# ---- 2) Compute the Cutting Score (0–100) ----\n",
    "def compute_cutting_score(frame: pd.DataFrame, w: dict, out_col: str = \"cutting_score_0_100\"):\n",
    "    # Weighted sum of component 0–100 scores\n",
    "    comp = [frame[k].astype(float) * w[k] for k in w]\n",
    "    frame[out_col] = np.sum(comp, axis=0)\n",
    "    return frame\n",
    "\n",
    "df_scored = compute_cutting_score(df_scored, weights_norm, out_col=\"cutting_score_0_100\")\n",
    "\n",
    "# ---- 3) Preview Top 10 by score ----\n",
    "cols_show = [\n",
    "    \"product_name_en\", \"brands\", \"energy-kcal_value\",\n",
    "    \"protein_per_100kcal\", \"sugars_value\", \"fiber_value\", \"saturated-fat_value\",\n",
    "    \"cutting_score_0_100\"\n",
    "]\n",
    "top10 = (df_scored\n",
    "         .sort_values(\"cutting_score_0_100\", ascending=False)\n",
    "         .loc[:, [c for c in cols_show if c in df_scored.columns]]\n",
    "         .head(10))\n",
    "\n",
    "print(\"Top 10 bars by Cutting Score:\")\n",
    "print(top10.to_string(index=False, \n",
    "                      formatters={\n",
    "                          \"energy-kcal_value\": \"{:.0f}\".format,\n",
    "                          \"protein_per_100kcal\": \"{:.2f}\".format,\n",
    "                          \"sugars_value\": \"{:.1f}\".format,\n",
    "                          \"fiber_value\": \"{:.1f}\".format,\n",
    "                          \"saturated-fat_value\": \"{:.1f}\".format,\n",
    "                          \"cutting_score_0_100\": \"{:.1f}\".format\n",
    "                      }))\n",
    "\n",
    "# ---- 4) Save full scored list to CSV ----\n",
    "out_path = \"protein_bars_scored.csv\"\n",
    "df_scored.to_csv(out_path, index=False)\n",
    "print(f\"\\nSaved full scored dataset to: {out_path}\")\n",
    "\n",
    "# Optional: also return the top10 DataFrame so you can inspect it easily in Jupyter\n",
    "top10\n"
   ]
  },
  {
   "cell_type": "code",
   "execution_count": 15,
   "id": "a55a83f0-f96b-45a7-b2b7-fb88ace08205",
   "metadata": {},
   "outputs": [
    {
     "name": "stdout",
     "output_type": "stream",
     "text": [
      "Fixed threshold → positive rate\n",
      "   50:  48.21%\n",
      "   55:  40.39%\n",
      "   60:  32.25%\n",
      "   65:  26.38%\n",
      "   70:  21.17%\n",
      "\n",
      "Percentile thresholds:\n",
      "  Moderate (~35% pos): cutoff ≈ 57.4\n",
      "  Strict   (~25% pos): cutoff ≈ 65.9\n",
      "\n",
      "Using cutoff 57.4:  positives=108  negatives=199  pos_rate= 35.18%\n"
     ]
    }
   ],
   "source": [
    "import numpy as np\n",
    "import pandas as pd\n",
    "\n",
    "scores = df_scored[\"cutting_score_0_100\"].astype(float)\n",
    "\n",
    "# 1) Inspect candidate fixed thresholds (sanity check)\n",
    "candidates = [50, 55, 60, 65, 70]\n",
    "print(\"Fixed threshold → positive rate\")\n",
    "for t in candidates:\n",
    "    pos_rate = (scores >= t).mean()\n",
    "    print(f\"  {t:>3}: {pos_rate: .2%}\")\n",
    "\n",
    "# 2) Percentile-driven thresholds (recommended)\n",
    "target_pos_moderate = 0.35   # ~35% positives\n",
    "target_pos_strict   = 0.25   # ~25% positives\n",
    "\n",
    "# quantile q gives cutoff where q*100% of scores are <= cutoff,\n",
    "# so positives ≈ (1 - q). We invert to get q.\n",
    "q_moderate = 1 - target_pos_moderate\n",
    "q_strict   = 1 - target_pos_strict\n",
    "\n",
    "t_moderate = scores.quantile(q_moderate)\n",
    "t_strict   = scores.quantile(q_strict)\n",
    "\n",
    "print(f\"\\nPercentile thresholds:\")\n",
    "print(f\"  Moderate (~35% pos): cutoff ≈ {t_moderate:.1f}\")\n",
    "print(f\"  Strict   (~25% pos): cutoff ≈ {t_strict:.1f}\")\n",
    "\n",
    "# 3) Pick one to proceed (start moderate; you can change later)\n",
    "cutoff = float(t_moderate)\n",
    "\n",
    "# 4) Create the binary label\n",
    "df_scored[\"cutting_label\"] = (df_scored[\"cutting_score_0_100\"] >= cutoff).astype(int)\n",
    "\n",
    "# 5) Show class balance\n",
    "n = len(df_scored)\n",
    "pos = int(df_scored[\"cutting_label\"].sum())\n",
    "neg = n - pos\n",
    "print(f\"\\nUsing cutoff {cutoff:.1f}:  positives={pos}  negatives={neg}  pos_rate={pos/n: .2%}\")\n"
   ]
  },
  {
   "cell_type": "code",
   "execution_count": 16,
   "id": "fd1afc1d-b83d-42e2-9448-eda44e8c3bda",
   "metadata": {},
   "outputs": [
    {
     "name": "stdout",
     "output_type": "stream",
     "text": [
      "F1 (mean ± std):  0.924 ± 0.020\n",
      "ROC-AUC (mean ± std): 0.990 ± 0.007\n",
      "\n",
      "Feature coefficients (standardized features):\n",
      "                      coef\n",
      "energy-kcal_value   -3.990\n",
      "protein_per_100kcal  2.361\n",
      "fiber_value          0.861\n",
      "sugars_value        -0.641\n",
      "saturated-fat_value -0.160\n"
     ]
    }
   ],
   "source": [
    "# Minimal supervised baseline: Logistic Regression with StratifiedKFold\n",
    "import numpy as np\n",
    "import pandas as pd\n",
    "\n",
    "from sklearn.model_selection import StratifiedKFold, cross_val_score\n",
    "from sklearn.pipeline import Pipeline\n",
    "from sklearn.impute import SimpleImputer\n",
    "from sklearn.preprocessing import StandardScaler\n",
    "from sklearn.linear_model import LogisticRegression\n",
    "\n",
    "# --- 1) Define core features & target ---\n",
    "features_core = [\n",
    "    \"energy-kcal_value\",      # lower is better\n",
    "    \"protein_per_100kcal\",    # higher is better\n",
    "    \"sugars_value\",           # lower is better\n",
    "    \"fiber_value\",            # higher is better\n",
    "    \"saturated-fat_value\"     # lower is better\n",
    "]\n",
    "X = df_scored[features_core].copy()\n",
    "y = df_scored[\"cutting_label\"].astype(int).values\n",
    "\n",
    "# --- 2) Pipeline: impute -> scale -> logistic regression ---\n",
    "pipe = Pipeline(steps=[\n",
    "    (\"impute\", SimpleImputer(strategy=\"median\")),\n",
    "    (\"scale\",  StandardScaler()),\n",
    "    (\"clf\",    LogisticRegression(\n",
    "        class_weight=\"balanced\",      # handle ~30% positives\n",
    "        max_iter=200,\n",
    "        solver=\"lbfgs\",\n",
    "        n_jobs=None\n",
    "    ))\n",
    "])\n",
    "\n",
    "# --- 3) Stratified CV & metrics ---\n",
    "cv = StratifiedKFold(n_splits=5, shuffle=True, random_state=42)\n",
    "\n",
    "f1_scores  = cross_val_score(pipe, X, y, cv=cv, scoring=\"f1\")\n",
    "roc_scores = cross_val_score(pipe, X, y, cv=cv, scoring=\"roc_auc\")\n",
    "\n",
    "print(f\"F1 (mean ± std):  {f1_scores.mean():.3f} ± {f1_scores.std():.3f}\")\n",
    "print(f\"ROC-AUC (mean ± std): {roc_scores.mean():.3f} ± {roc_scores.std():.3f}\")\n",
    "\n",
    "# --- 4) Fit once on all data for interpretability (coefficients) ---\n",
    "pipe.fit(X, y)\n",
    "clf = pipe.named_steps[\"clf\"]\n",
    "\n",
    "# Coefficients (after standardization)\n",
    "coef = pd.Series(clf.coef_.ravel(), index=features_core).sort_values(key=abs, ascending=False)\n",
    "print(\"\\nFeature coefficients (standardized features):\")\n",
    "print(coef.to_frame(\"coef\").to_string(float_format=lambda v: f\"{v: .3f}\"))\n"
   ]
  },
  {
   "cell_type": "code",
   "execution_count": 17,
   "id": "9876d579-11a6-4ce7-93db-349c01045bef",
   "metadata": {},
   "outputs": [
    {
     "name": "stdout",
     "output_type": "stream",
     "text": [
      "Example A: 0.583 CUTTING-FRIENDLY ✅\n",
      "Example B: 0.0 Not cutting-friendly ❌\n"
     ]
    }
   ],
   "source": [
    "import numpy as np\n",
    "import pandas as pd\n",
    "\n",
    "from sklearn.pipeline import Pipeline\n",
    "from sklearn.impute import SimpleImputer\n",
    "from sklearn.preprocessing import StandardScaler\n",
    "from sklearn.linear_model import LogisticRegression\n",
    "\n",
    "# ---- 0) Ensure the pipeline exists & is fitted (or fit now on your data) ----\n",
    "features_core = [\n",
    "    \"energy-kcal_value\",      # kcal per 100g\n",
    "    \"protein_per_100kcal\",    # derived below for new samples\n",
    "    \"sugars_value\",\n",
    "    \"fiber_value\",\n",
    "    \"saturated-fat_value\"\n",
    "]\n",
    "\n",
    "def get_or_fit_pipeline(df_scored, y_col=\"cutting_label\"):\n",
    "    global pipe\n",
    "    if \"pipe\" in globals() and hasattr(pipe, \"predict_proba\"):\n",
    "        return pipe\n",
    "    # build & fit a fresh one\n",
    "    X = df_scored[features_core].copy()\n",
    "    y = df_scored[y_col].astype(int).values\n",
    "    pipe_local = Pipeline(steps=[\n",
    "        (\"impute\", SimpleImputer(strategy=\"median\")),\n",
    "        (\"scale\",  StandardScaler()),\n",
    "        (\"clf\",    LogisticRegression(class_weight=\"balanced\", max_iter=200, solver=\"lbfgs\"))\n",
    "    ])\n",
    "    pipe_local.fit(X, y)\n",
    "    pipe = pipe_local\n",
    "    return pipe\n",
    "\n",
    "pipe = get_or_fit_pipeline(df_scored)\n",
    "\n",
    "# Keep your decision cutoff (you picked 60 earlier)\n",
    "CUTTING_SCORE_CUTOFF = 60.0  # used only to define the label; classifier returns probability\n",
    "\n",
    "# ---- 1) Helper: predict a single new bar ----\n",
    "def predict_bar(\n",
    "    energy_kcal_per_100g: float,\n",
    "    proteins_g_per_100g: float,\n",
    "    sugars_g_per_100g: float,\n",
    "    fiber_g_per_100g: float,\n",
    "    satfat_g_per_100g: float,\n",
    "    *,\n",
    "    round_prob: int = 3\n",
    "):\n",
    "    \"\"\"\n",
    "    Predict cutting-friendliness for a new bar (values per 100g).\n",
    "    Returns (probability_of_cutting, label_str).\n",
    "    \"\"\"\n",
    "    # Compute protein density (g per 100 kcal), guard against zero/neg kcal\n",
    "    if energy_kcal_per_100g <= 0:\n",
    "        raise ValueError(\"energy_kcal_per_100g must be > 0\")\n",
    "    protein_per_100kcal = proteins_g_per_100g / (energy_kcal_per_100g / 100.0)\n",
    "\n",
    "    # Build one-row DataFrame with the features the model expects\n",
    "    row = pd.DataFrame([{\n",
    "        \"energy-kcal_value\":      float(energy_kcal_per_100g),\n",
    "        \"protein_per_100kcal\":    float(protein_per_100kcal),\n",
    "        \"sugars_value\":           float(sugars_g_per_100g),\n",
    "        \"fiber_value\":            float(fiber_g_per_100g),\n",
    "        \"saturated-fat_value\":    float(satfat_g_per_100g),\n",
    "    }], columns=features_core)\n",
    "\n",
    "    # Predict probability for class 1 (cutting-friendly)\n",
    "    prob = float(pipe.predict_proba(row)[0, 1])\n",
    "    label = \"CUTTING-FRIENDLY ✅\" if prob >= 0.5 else \"Not cutting-friendly ❌\"\n",
    "    return round(prob, round_prob), label\n",
    "\n",
    "# ---- 2) Example demos ----\n",
    "# Example A: lean, high-protein, low-sugar bar (per 100g)\n",
    "prob_a, label_a = predict_bar(\n",
    "    energy_kcal_per_100g=320,\n",
    "    proteins_g_per_100g=30,\n",
    "    sugars_g_per_100g=3,\n",
    "    fiber_g_per_100g=10,\n",
    "    satfat_g_per_100g=2\n",
    ")\n",
    "print(\"Example A:\", prob_a, label_a)\n",
    "\n",
    "# Example B: higher kcal, higher sugar, lower fiber\n",
    "prob_b, label_b = predict_bar(\n",
    "    energy_kcal_per_100g=450,\n",
    "    proteins_g_per_100g=18,\n",
    "    sugars_g_per_100g=20,\n",
    "    fiber_g_per_100g=2,\n",
    "    satfat_g_per_100g=6\n",
    ")\n",
    "print(\"Example B:\", prob_b, label_b)\n"
   ]
  },
  {
   "cell_type": "code",
   "execution_count": 18,
   "id": "37d08b06-7794-4447-9304-059cd3126f7f",
   "metadata": {},
   "outputs": [
    {
     "data": {
      "text/plain": [
       "['cutting_classifier.joblib']"
      ]
     },
     "execution_count": 18,
     "metadata": {},
     "output_type": "execute_result"
    }
   ],
   "source": [
    "# Save\n",
    "import joblib\n",
    "joblib.dump(pipe, \"cutting_classifier.joblib\")\n",
    "\n",
    "# Load later (in a new session / script)\n",
    "# pipe = joblib.load(\"cutting_classifier.joblib\")\n"
   ]
  },
  {
   "cell_type": "code",
   "execution_count": 19,
   "id": "543ef216-01d8-4230-8f88-effe738bf993",
   "metadata": {},
   "outputs": [
    {
     "name": "stdout",
     "output_type": "stream",
     "text": [
      "Enter nutrition per 100g:\n"
     ]
    },
    {
     "name": "stdin",
     "output_type": "stream",
     "text": [
      "Energy kcal:  400\n",
      "Protein g:  16\n",
      "Sugar g:  10\n",
      "Fiber g:  0\n",
      "Saturated fat g:  0\n"
     ]
    },
    {
     "name": "stdout",
     "output_type": "stream",
     "text": [
      "\n",
      "Prediction: Not cutting-friendly ❌  (prob=0.0)\n"
     ]
    }
   ],
   "source": [
    "def quick_cli():\n",
    "    print(\"Enter nutrition per 100g:\")\n",
    "    kcal = float(input(\"Energy kcal: \"))\n",
    "    prot = float(input(\"Protein g: \"))\n",
    "    sug  = float(input(\"Sugar g: \"))\n",
    "    fib  = float(input(\"Fiber g: \"))\n",
    "    sat  = float(input(\"Saturated fat g: \"))\n",
    "    prob, label = predict_bar(kcal, prot, sug, fib, sat)\n",
    "    print(f\"\\nPrediction: {label}  (prob={prob})\")\n",
    "\n",
    "quick_cli()  # uncomment to use interactively\n"
   ]
  },
  {
   "cell_type": "code",
   "execution_count": 20,
   "id": "b397acfd-966d-48c6-aa65-9410762c341c",
   "metadata": {},
   "outputs": [
    {
     "name": "stdout",
     "output_type": "stream",
     "text": [
      "Saved model -> cutting_classifier.joblib\n"
     ]
    }
   ],
   "source": [
    "import joblib\n",
    "joblib.dump(pipe, \"cutting_classifier.joblib\")\n",
    "print(\"Saved model -> cutting_classifier.joblib\")\n"
   ]
  },
  {
   "cell_type": "code",
   "execution_count": null,
   "id": "35f18377-868b-4946-a3ae-c6d874634500",
   "metadata": {},
   "outputs": [],
   "source": []
  }
 ],
 "metadata": {
  "kernelspec": {
   "display_name": "Python 3 (ipykernel)",
   "language": "python",
   "name": "python3"
  },
  "language_info": {
   "codemirror_mode": {
    "name": "ipython",
    "version": 3
   },
   "file_extension": ".py",
   "mimetype": "text/x-python",
   "name": "python",
   "nbconvert_exporter": "python",
   "pygments_lexer": "ipython3",
   "version": "3.13.0"
  }
 },
 "nbformat": 4,
 "nbformat_minor": 5
}
